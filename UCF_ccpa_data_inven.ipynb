{
 "cells": [
  {
   "cell_type": "markdown",
   "metadata": {
    "application/vnd.databricks.v1+cell": {
     "cellMetadata": {},
     "inputWidgets": {},
     "nuid": "58d037e0-1f42-4c91-9fde-be14b8bcf367",
     "showTitle": false,
     "tableResultSettingsMap": {},
     "title": ""
    }
   },
   "source": [
    "What This Function Does\n",
    "This intelligent function automatically scans your entire Unity Catalog to identify and classify PII data for CCPA compliance. It provides a comprehensive data inventory that compliance teams need for regulatory reporting and consumer rights management.\n",
    "\uD83D\uDD0D Multi-Source PII Detection\n",
    "The function uses a three-tiered detection approach (in priority order):\n",
    "\n",
    "\uD83C\uDFF7️ Column Tags (Highest Priority)\n",
    "\n",
    "Scans Unity Catalog column tags for PII classifications\n",
    "Example: pii_type = 'email', data_class = 'phone'\n",
    "\n",
    "\n",
    "\uD83D\uDCDD Column Comments/Descriptions (Medium Priority)\n",
    "\n",
    "Analyzes column comments for PII keywords\n",
    "Example: \"Customer email address\", \"Social security number\"\n",
    "\n",
    "\n",
    "\uD83D\uDD24 Column Names (Fallback)\n",
    "\n",
    "Pattern matching on column names\n",
    "Example: email_address, phone_number, customer_ssn"
   ]
  },
  {
   "cell_type": "markdown",
   "metadata": {
    "application/vnd.databricks.v1+cell": {
     "cellMetadata": {},
     "inputWidgets": {},
     "nuid": "78aafd14-16a5-40a4-bb68-9ca1d155727c",
     "showTitle": false,
     "tableResultSettingsMap": {},
     "title": ""
    }
   },
   "source": [
    "⚖️ Consumer Rights Analysis\n",
    "Determines which CCPA consumer rights apply to each data element:\n",
    "\n",
    "Right to Know - What personal information is collected\n",
    "Right to Delete - Request deletion of personal information\n",
    "Right to Opt-Out - Stop sale/sharing of personal information\n"
   ]
  },
  {
   "cell_type": "markdown",
   "metadata": {
    "application/vnd.databricks.v1+cell": {
     "cellMetadata": {},
     "inputWidgets": {},
     "nuid": "391bcf93-2671-4df9-b1e6-f6b2195fae3f",
     "showTitle": false,
     "tableResultSettingsMap": {},
     "title": ""
    }
   },
   "source": [
    "Function signature"
   ]
  },
  {
   "cell_type": "code",
   "execution_count": 0,
   "metadata": {
    "application/vnd.databricks.v1+cell": {
     "cellMetadata": {
      "byteLimit": 2048000,
      "implicitDf": true,
      "rowLimit": 10000
     },
     "inputWidgets": {},
     "nuid": "8ceb9629-ccc7-48c7-9866-269f91535651",
     "showTitle": false,
     "tableResultSettingsMap": {},
     "title": ""
    }
   },
   "outputs": [
    {
     "output_type": "stream",
     "name": "stdout",
     "output_type": "stream",
     "text": [
      "Executing subquery: -- Set context to your specific catalog and schema\nUSE CATALOG sumitsaraswat_catalog.\nExecuting subquery: USE SCHEMA compliance.\nExecuting subquery: -- CCPA Data Inventory Function , uses column names, descriptions, AND tags\nCREATE OR REPLACE FUNCTION sumitsaraswat_catalog.compliance.ccpa_data_inventory()\nRETURNS TABLE(\n  table_location STRING,\n  ccpa_category STRING,\n  personal_info_elements ARRAY<STRING>,\n  sale_or_sharing_status STRING,\n  consumer_right_to_know BOOLEAN,\n  consumer_right_to_delete BOOLEAN,\n  consumer_right_to_opt_out BOOLEAN,\n  business_purpose STRING,\n  third_party_recipients STRING,\n  retention_period STRING,\n  sensitive_personal_info BOOLEAN,\n  privacy_policy_disclosure STRING,\n  implementation_gap STRING,\n  detection_method STRING\n)\nRETURN (\n  WITH enhanced_pii_discovery AS (\n    -- Enhanced PII discovery using column names, descriptions, AND tags\n    SELECT \n      c.table_catalog,\n      c.table_schema,\n      c.table_name,\n      c.column_name,\n      c.data_type,\n      COALESCE(c.comment, '') as column_description,\n      \n      -- Get column tags if they exist\n      COALESCE(ct.tag_value, '') as column_tags,\n      \n      -- Enhanced PII detection using multiple sources\n      CASE \n        -- First check explicit PII tags\n        WHEN UPPER(COALESCE(ct.tag_value, '')) RLIKE '.*(EMAIL|E_MAIL).*' THEN 'email'\n        WHEN UPPER(COALESCE(ct.tag_value, '')) RLIKE '.*(PHONE|TELEPHONE|MOBILE).*' THEN 'phone'\n        WHEN UPPER(COALESCE(ct.tag_value, '')) RLIKE '.*(NAME|FIRST_NAME|LAST_NAME).*' THEN 'name'\n        WHEN UPPER(COALESCE(ct.tag_value, '')) RLIKE '.*(SSN|SOCIAL_SECURITY).*' THEN 'ssn'\n        WHEN UPPER(COALESCE(ct.tag_value, '')) RLIKE '.*(CREDIT_CARD|PAYMENT|CARD_NUMBER).*' THEN 'credit_card'\n        WHEN UPPER(COALESCE(ct.tag_value, '')) RLIKE '.*(ADDRESS|STREET|LOCATION).*' THEN 'address'\n        WHEN UPPER(COALESCE(ct.tag_value, '')) RLIKE '.*(DOB|BIRTH_DATE|DATE_OF_BIRTH).*' THEN 'dob'\n        WHEN UPPER(COALESCE(ct.tag_value, '')) RLIKE '.*(IP_ADDRESS|IP_ADDR).*' THEN 'ip_address'\n        \n        -- Then check column descriptions/comments\n        WHEN UPPER(COALESCE(c.comment, '')) RLIKE '.*(EMAIL|E.MAIL|ELECTRONIC.MAIL).*' THEN 'email'\n        WHEN UPPER(COALESCE(c.comment, '')) RLIKE '.*(PHONE|TELEPHONE|MOBILE|CELL).*' THEN 'phone'\n        WHEN UPPER(COALESCE(c.comment, '')) RLIKE '.*(FIRST.NAME|LAST.NAME|FULL.NAME|CUSTOMER.NAME).*' THEN 'name'\n        WHEN UPPER(COALESCE(c.comment, '')) RLIKE '.*(SSN|SOCIAL.SECURITY|TAX.ID).*' THEN 'ssn'\n        WHEN UPPER(COALESCE(c.comment, '')) RLIKE '.*(CREDIT.CARD|PAYMENT|CARD.NUMBER).*' THEN 'credit_card'\n        WHEN UPPER(COALESCE(c.comment, '')) RLIKE '.*(ADDRESS|STREET|POSTAL|MAILING).*' THEN 'address'\n        WHEN UPPER(COALESCE(c.comment, '')) RLIKE '.*(BIRTH.DATE|DOB|DATE.OF.BIRTH).*' THEN 'dob'\n        WHEN UPPER(COALESCE(c.comment, '')) RLIKE '.*(IP.ADDRESS|INTERNET.PROTOCOL).*' THEN 'ip_address'\n        \n        -- Finally fall back to column name patterns\n        WHEN LOWER(c.column_name) RLIKE '.*(email|e_mail).*' THEN 'email'\n        WHEN LOWER(c.column_name) RLIKE '.*(phone|tel|mobile).*' THEN 'phone'\n        WHEN LOWER(c.column_name) RLIKE '.*(first.*name|last.*name|full.*name).*' THEN 'name'\n        WHEN LOWER(c.column_name) RLIKE '.*(ssn|social.*security).*' THEN 'ssn'\n        WHEN LOWER(c.column_name) RLIKE '.*(card.*number|cc.*|credit.*).*' THEN 'credit_card'\n        WHEN LOWER(c.column_name) RLIKE '.*(address|street|city|zip).*' THEN 'address'\n        WHEN LOWER(c.column_name) RLIKE '.*(birth.*date|dob|birthday).*' THEN 'dob'\n        WHEN LOWER(c.column_name) RLIKE '.*(ip.*address|ip_addr).*' THEN 'ip_address'\n        ELSE 'none'\n      END as pii_type,\n      \n      -- Track how PII was detected for transparency\n      CASE \n        WHEN UPPER(COALESCE(ct.tag_value, '')) RLIKE '.*(EMAIL|PHONE|NAME|SSN|CREDIT_CARD|ADDRESS|DOB|IP_ADDRESS).*' \n          THEN 'Detected via column tags'\n        WHEN UPPER(COALESCE(c.comment, '')) RLIKE '.*(EMAIL|PHONE|NAME|SSN|CREDIT|ADDRESS|BIRTH|IP).*' \n          THEN 'Detected via column description'\n        WHEN LOWER(c.column_name) RLIKE '.*(email|phone|name|ssn|card|address|birth|ip).*' \n          THEN 'Detected via column name'\n        ELSE 'No PII detected'\n      END as detection_method\n      \n    FROM information_schema.columns c\n    INNER JOIN information_schema.tables t \n      ON c.table_catalog = t.table_catalog \n      AND c.table_schema = t.table_schema \n      AND c.table_name = t.table_name\n    LEFT JOIN system.information_schema.column_tags ct\n      ON c.table_catalog = ct.catalog_name\n      AND c.table_schema = ct.schema_name \n      AND c.table_name = ct.table_name\n      AND c.column_name = ct.column_name\n    WHERE c.table_catalog = 'sumitsaraswat_catalog'\n      AND t.table_type IN ('MANAGED', 'EXTERNAL')\n  ),\n  \n  pii_classified AS (\n    SELECT \n      CONCAT(table_catalog, '.', table_schema, '.', table_name) as table_location,\n      pii_type,\n      COLLECT_LIST(column_name) as pii_columns,\n      COLLECT_LIST(detection_method) as detection_methods,\n      \n      -- CCPA Category mapping\n      CASE \n        WHEN pii_type IN ('email', 'phone', 'name', 'address', 'ssn') THEN 'Identifiers'\n        WHEN pii_type IN ('dob') THEN 'Personal Information Categories'\n        WHEN pii_type IN ('credit_card') THEN 'Commercial Information'\n        WHEN pii_type IN ('ip_address') THEN 'Internet or Network Activity'\n        ELSE 'Other Personal Information'\n      END as ccpa_category,\n      \n      -- Sale/Sharing Status\n      CASE \n        WHEN pii_type IN ('email', 'ip_address') THEN 'May be shared with marketing/analytics partners'\n        WHEN pii_type IN ('phone', 'name', 'address') THEN 'Not sold, shared with service providers only'\n        WHEN pii_type IN ('ssn', 'credit_card') THEN 'Never sold or shared (legal/service requirements only)'\n        ELSE 'To be determined'\n      END as sale_status,\n      \n      -- Consumer Rights\n      TRUE as right_to_know,\n      CASE \n        WHEN pii_type = 'ssn' THEN FALSE  -- Limited due to legal requirements\n        ELSE TRUE \n      END as right_to_delete,\n      CASE \n        WHEN pii_type IN ('email', 'ip_address', 'ssn') THEN TRUE\n        ELSE FALSE\n      END as right_to_opt_out,\n      \n      -- Business Purpose\n      CASE \n        WHEN pii_type = 'email' THEN 'Customer communication, marketing, account management'\n        WHEN pii_type = 'phone' THEN 'Customer service, account verification, security'\n        WHEN pii_type = 'name' THEN 'Account management, service delivery, legal compliance'\n        WHEN pii_type = 'ssn' THEN 'Legal compliance, tax reporting, identity verification'\n        WHEN pii_type = 'credit_card' THEN 'Payment processing, fraud prevention'\n        WHEN pii_type = 'address' THEN 'Service delivery, billing, shipping'\n        WHEN pii_type = 'ip_address' THEN 'Security, analytics, fraud prevention, user experience'\n        ELSE 'Business operations'\n      END as business_purpose,\n      \n      -- Third Party Recipients\n      CASE \n        WHEN pii_type = 'email' THEN 'Email service providers, Marketing platforms'\n        WHEN pii_type = 'phone' THEN 'Customer service platforms, SMS providers'\n        WHEN pii_type = 'name' THEN 'Service providers, Payment processors'\n        WHEN pii_type = 'ssn' THEN 'Government agencies, Tax processors'\n        WHEN pii_type = 'credit_card' THEN 'Payment processors, Fraud detection services'\n        WHEN pii_type = 'address' THEN 'Shipping providers, Service technicians'\n        WHEN pii_type = 'ip_address' THEN 'Analytics providers, Security services, CDN providers'\n        ELSE 'Service providers'\n      END as third_parties,\n      \n      -- Retention Period\n      CASE \n        WHEN pii_type IN ('email', 'phone', 'address') THEN '24 months after last interaction'\n        WHEN pii_type IN ('name', 'ssn') THEN '7 years for business records'\n        WHEN pii_type = 'credit_card' THEN '90 days maximum (encrypted)'\n        WHEN pii_type = 'ip_address' THEN '12 months'\n        ELSE 'Under review'\n      END as retention_period,\n      \n      -- Sensitive Personal Info Flag\n      CASE \n        WHEN pii_type IN ('ssn', 'credit_card') THEN TRUE\n        ELSE FALSE\n      END as sensitive_flag,\n      \n      -- Privacy Policy Disclosure\n      CASE \n        WHEN pii_type = 'email' THEN 'Email addresses collected for communication and marketing purposes'\n        WHEN pii_type = 'phone' THEN 'Phone numbers used for customer service and security verification'\n        WHEN pii_type = 'name' THEN 'Names used for account identification and service delivery'\n        WHEN pii_type = 'ssn' THEN 'SSN collected only when legally required for tax/compliance'\n        WHEN pii_type = 'credit_card' THEN 'Payment information used solely for transaction processing'\n        WHEN pii_type = 'address' THEN 'Addresses used for service delivery and billing'\n        WHEN pii_type = 'ip_address' THEN 'IP addresses collected for security and analytics purposes'\n        ELSE 'Personal information used for business purposes'\n      END as policy_disclosure,\n      \n      -- Implementation Gap Analysis\n      CASE \n        WHEN pii_type IN ('email', 'ip_address') AND table_location LIKE '%marketing%' \n          THEN 'Opt-out mechanism required for marketing data'\n        WHEN pii_type IN ('ssn', 'credit_card') \n          THEN 'Enhanced security controls verification needed'\n        WHEN pii_type != 'none' AND table_location LIKE '%temp%' \n          THEN 'Retention policy definition required'\n        WHEN pii_type != 'none' AND table_location LIKE '%backup%' \n          THEN 'Backup deletion process needed'\n        ELSE 'Implementation appears complete'\n      END as implementation_gap\n      \n    FROM enhanced_pii_discovery\n    WHERE pii_type != 'none'\n    GROUP BY \n      table_catalog, table_schema, table_name, pii_type\n  )\n  \n  SELECT \n    table_location,\n    ccpa_category,\n    pii_columns as personal_info_elements,\n    sale_status as sale_or_sharing_status,\n    right_to_know as consumer_right_to_know,\n    right_to_delete as consumer_right_to_delete,\n    right_to_opt_out as consumer_right_to_opt_out,\n    business_purpose,\n    third_parties as third_party_recipients,\n    retention_period,\n    sensitive_flag as sensitive_personal_info,\n    policy_disclosure as privacy_policy_disclosure,\n    implementation_gap,\n    ARRAY_JOIN(ARRAY_DISTINCT(detection_methods), ', ') as detection_method\n  FROM pii_classified\n  ORDER BY sensitive_flag DESC, ccpa_category, table_location\n)."
     ]
    }
   ],
   "source": [
    "%sql\n",
    "-- Set context to your specific catalog and schema\n",
    "USE CATALOG sumitsaraswat_catalog;\n",
    "USE SCHEMA compliance;\n",
    "\n",
    "-- CCPA Data Inventory Function , uses column names, descriptions, AND tags\n",
    "CREATE OR REPLACE FUNCTION sumitsaraswat_catalog.compliance.ccpa_data_inventory()\n",
    "RETURNS TABLE(\n",
    "  table_location STRING,\n",
    "  ccpa_category STRING,\n",
    "  personal_info_elements ARRAY<STRING>,\n",
    "  sale_or_sharing_status STRING,\n",
    "  consumer_right_to_know BOOLEAN,\n",
    "  consumer_right_to_delete BOOLEAN,\n",
    "  consumer_right_to_opt_out BOOLEAN,\n",
    "  business_purpose STRING,\n",
    "  third_party_recipients STRING,\n",
    "  retention_period STRING,\n",
    "  sensitive_personal_info BOOLEAN,\n",
    "  privacy_policy_disclosure STRING,\n",
    "  implementation_gap STRING,\n",
    "  detection_method STRING\n",
    ")\n",
    "RETURN (\n",
    "  WITH enhanced_pii_discovery AS (\n",
    "    -- Enhanced PII discovery using column names, descriptions, AND tags\n",
    "    SELECT \n",
    "      c.table_catalog,\n",
    "      c.table_schema,\n",
    "      c.table_name,\n",
    "      c.column_name,\n",
    "      c.data_type,\n",
    "      COALESCE(c.comment, '') as column_description,\n",
    "      \n",
    "      -- Get column tags if they exist\n",
    "      COALESCE(ct.tag_value, '') as column_tags,\n",
    "      \n",
    "      -- Enhanced PII detection using multiple sources\n",
    "      CASE \n",
    "        -- First check explicit PII tags\n",
    "        WHEN UPPER(COALESCE(ct.tag_value, '')) RLIKE '.*(EMAIL|E_MAIL).*' THEN 'email'\n",
    "        WHEN UPPER(COALESCE(ct.tag_value, '')) RLIKE '.*(PHONE|TELEPHONE|MOBILE).*' THEN 'phone'\n",
    "        WHEN UPPER(COALESCE(ct.tag_value, '')) RLIKE '.*(NAME|FIRST_NAME|LAST_NAME).*' THEN 'name'\n",
    "        WHEN UPPER(COALESCE(ct.tag_value, '')) RLIKE '.*(SSN|SOCIAL_SECURITY).*' THEN 'ssn'\n",
    "        WHEN UPPER(COALESCE(ct.tag_value, '')) RLIKE '.*(CREDIT_CARD|PAYMENT|CARD_NUMBER).*' THEN 'credit_card'\n",
    "        WHEN UPPER(COALESCE(ct.tag_value, '')) RLIKE '.*(ADDRESS|STREET|LOCATION).*' THEN 'address'\n",
    "        WHEN UPPER(COALESCE(ct.tag_value, '')) RLIKE '.*(DOB|BIRTH_DATE|DATE_OF_BIRTH).*' THEN 'dob'\n",
    "        WHEN UPPER(COALESCE(ct.tag_value, '')) RLIKE '.*(IP_ADDRESS|IP_ADDR).*' THEN 'ip_address'\n",
    "        \n",
    "        -- Then check column descriptions/comments\n",
    "        WHEN UPPER(COALESCE(c.comment, '')) RLIKE '.*(EMAIL|E.MAIL|ELECTRONIC.MAIL).*' THEN 'email'\n",
    "        WHEN UPPER(COALESCE(c.comment, '')) RLIKE '.*(PHONE|TELEPHONE|MOBILE|CELL).*' THEN 'phone'\n",
    "        WHEN UPPER(COALESCE(c.comment, '')) RLIKE '.*(FIRST.NAME|LAST.NAME|FULL.NAME|CUSTOMER.NAME).*' THEN 'name'\n",
    "        WHEN UPPER(COALESCE(c.comment, '')) RLIKE '.*(SSN|SOCIAL.SECURITY|TAX.ID).*' THEN 'ssn'\n",
    "        WHEN UPPER(COALESCE(c.comment, '')) RLIKE '.*(CREDIT.CARD|PAYMENT|CARD.NUMBER).*' THEN 'credit_card'\n",
    "        WHEN UPPER(COALESCE(c.comment, '')) RLIKE '.*(ADDRESS|STREET|POSTAL|MAILING).*' THEN 'address'\n",
    "        WHEN UPPER(COALESCE(c.comment, '')) RLIKE '.*(BIRTH.DATE|DOB|DATE.OF.BIRTH).*' THEN 'dob'\n",
    "        WHEN UPPER(COALESCE(c.comment, '')) RLIKE '.*(IP.ADDRESS|INTERNET.PROTOCOL).*' THEN 'ip_address'\n",
    "        \n",
    "        -- Finally fall back to column name patterns\n",
    "        WHEN LOWER(c.column_name) RLIKE '.*(email|e_mail).*' THEN 'email'\n",
    "        WHEN LOWER(c.column_name) RLIKE '.*(phone|tel|mobile).*' THEN 'phone'\n",
    "        WHEN LOWER(c.column_name) RLIKE '.*(first.*name|last.*name|full.*name).*' THEN 'name'\n",
    "        WHEN LOWER(c.column_name) RLIKE '.*(ssn|social.*security).*' THEN 'ssn'\n",
    "        WHEN LOWER(c.column_name) RLIKE '.*(card.*number|cc.*|credit.*).*' THEN 'credit_card'\n",
    "        WHEN LOWER(c.column_name) RLIKE '.*(address|street|city|zip).*' THEN 'address'\n",
    "        WHEN LOWER(c.column_name) RLIKE '.*(birth.*date|dob|birthday).*' THEN 'dob'\n",
    "        WHEN LOWER(c.column_name) RLIKE '.*(ip.*address|ip_addr).*' THEN 'ip_address'\n",
    "        ELSE 'none'\n",
    "      END as pii_type,\n",
    "      \n",
    "      -- Track how PII was detected for transparency\n",
    "      CASE \n",
    "        WHEN UPPER(COALESCE(ct.tag_value, '')) RLIKE '.*(EMAIL|PHONE|NAME|SSN|CREDIT_CARD|ADDRESS|DOB|IP_ADDRESS).*' \n",
    "          THEN 'Detected via column tags'\n",
    "        WHEN UPPER(COALESCE(c.comment, '')) RLIKE '.*(EMAIL|PHONE|NAME|SSN|CREDIT|ADDRESS|BIRTH|IP).*' \n",
    "          THEN 'Detected via column description'\n",
    "        WHEN LOWER(c.column_name) RLIKE '.*(email|phone|name|ssn|card|address|birth|ip).*' \n",
    "          THEN 'Detected via column name'\n",
    "        ELSE 'No PII detected'\n",
    "      END as detection_method\n",
    "      \n",
    "    FROM information_schema.columns c\n",
    "    INNER JOIN information_schema.tables t \n",
    "      ON c.table_catalog = t.table_catalog \n",
    "      AND c.table_schema = t.table_schema \n",
    "      AND c.table_name = t.table_name\n",
    "    LEFT JOIN system.information_schema.column_tags ct\n",
    "      ON c.table_catalog = ct.catalog_name\n",
    "      AND c.table_schema = ct.schema_name \n",
    "      AND c.table_name = ct.table_name\n",
    "      AND c.column_name = ct.column_name\n",
    "    WHERE c.table_catalog = 'sumitsaraswat_catalog'\n",
    "      AND t.table_type IN ('MANAGED', 'EXTERNAL')\n",
    "  ),\n",
    "  \n",
    "  pii_classified AS (\n",
    "    SELECT \n",
    "      CONCAT(table_catalog, '.', table_schema, '.', table_name) as table_location,\n",
    "      pii_type,\n",
    "      COLLECT_LIST(column_name) as pii_columns,\n",
    "      COLLECT_LIST(detection_method) as detection_methods,\n",
    "      \n",
    "      -- CCPA Category mapping\n",
    "      CASE \n",
    "        WHEN pii_type IN ('email', 'phone', 'name', 'address', 'ssn') THEN 'Identifiers'\n",
    "        WHEN pii_type IN ('dob') THEN 'Personal Information Categories'\n",
    "        WHEN pii_type IN ('credit_card') THEN 'Commercial Information'\n",
    "        WHEN pii_type IN ('ip_address') THEN 'Internet or Network Activity'\n",
    "        ELSE 'Other Personal Information'\n",
    "      END as ccpa_category,\n",
    "      \n",
    "      -- Sale/Sharing Status\n",
    "      CASE \n",
    "        WHEN pii_type IN ('email', 'ip_address') THEN 'May be shared with marketing/analytics partners'\n",
    "        WHEN pii_type IN ('phone', 'name', 'address') THEN 'Not sold, shared with service providers only'\n",
    "        WHEN pii_type IN ('ssn', 'credit_card') THEN 'Never sold or shared (legal/service requirements only)'\n",
    "        ELSE 'To be determined'\n",
    "      END as sale_status,\n",
    "      \n",
    "      -- Consumer Rights\n",
    "      TRUE as right_to_know,\n",
    "      CASE \n",
    "        WHEN pii_type = 'ssn' THEN FALSE  -- Limited due to legal requirements\n",
    "        ELSE TRUE \n",
    "      END as right_to_delete,\n",
    "      CASE \n",
    "        WHEN pii_type IN ('email', 'ip_address', 'ssn') THEN TRUE\n",
    "        ELSE FALSE\n",
    "      END as right_to_opt_out,\n",
    "      \n",
    "      -- Business Purpose\n",
    "      CASE \n",
    "        WHEN pii_type = 'email' THEN 'Customer communication, marketing, account management'\n",
    "        WHEN pii_type = 'phone' THEN 'Customer service, account verification, security'\n",
    "        WHEN pii_type = 'name' THEN 'Account management, service delivery, legal compliance'\n",
    "        WHEN pii_type = 'ssn' THEN 'Legal compliance, tax reporting, identity verification'\n",
    "        WHEN pii_type = 'credit_card' THEN 'Payment processing, fraud prevention'\n",
    "        WHEN pii_type = 'address' THEN 'Service delivery, billing, shipping'\n",
    "        WHEN pii_type = 'ip_address' THEN 'Security, analytics, fraud prevention, user experience'\n",
    "        ELSE 'Business operations'\n",
    "      END as business_purpose,\n",
    "      \n",
    "      -- Third Party Recipients\n",
    "      CASE \n",
    "        WHEN pii_type = 'email' THEN 'Email service providers, Marketing platforms'\n",
    "        WHEN pii_type = 'phone' THEN 'Customer service platforms, SMS providers'\n",
    "        WHEN pii_type = 'name' THEN 'Service providers, Payment processors'\n",
    "        WHEN pii_type = 'ssn' THEN 'Government agencies, Tax processors'\n",
    "        WHEN pii_type = 'credit_card' THEN 'Payment processors, Fraud detection services'\n",
    "        WHEN pii_type = 'address' THEN 'Shipping providers, Service technicians'\n",
    "        WHEN pii_type = 'ip_address' THEN 'Analytics providers, Security services, CDN providers'\n",
    "        ELSE 'Service providers'\n",
    "      END as third_parties,\n",
    "      \n",
    "      -- Retention Period\n",
    "      CASE \n",
    "        WHEN pii_type IN ('email', 'phone', 'address') THEN '24 months after last interaction'\n",
    "        WHEN pii_type IN ('name', 'ssn') THEN '7 years for business records'\n",
    "        WHEN pii_type = 'credit_card' THEN '90 days maximum (encrypted)'\n",
    "        WHEN pii_type = 'ip_address' THEN '12 months'\n",
    "        ELSE 'Under review'\n",
    "      END as retention_period,\n",
    "      \n",
    "      -- Sensitive Personal Info Flag\n",
    "      CASE \n",
    "        WHEN pii_type IN ('ssn', 'credit_card') THEN TRUE\n",
    "        ELSE FALSE\n",
    "      END as sensitive_flag,\n",
    "      \n",
    "      -- Privacy Policy Disclosure\n",
    "      CASE \n",
    "        WHEN pii_type = 'email' THEN 'Email addresses collected for communication and marketing purposes'\n",
    "        WHEN pii_type = 'phone' THEN 'Phone numbers used for customer service and security verification'\n",
    "        WHEN pii_type = 'name' THEN 'Names used for account identification and service delivery'\n",
    "        WHEN pii_type = 'ssn' THEN 'SSN collected only when legally required for tax/compliance'\n",
    "        WHEN pii_type = 'credit_card' THEN 'Payment information used solely for transaction processing'\n",
    "        WHEN pii_type = 'address' THEN 'Addresses used for service delivery and billing'\n",
    "        WHEN pii_type = 'ip_address' THEN 'IP addresses collected for security and analytics purposes'\n",
    "        ELSE 'Personal information used for business purposes'\n",
    "      END as policy_disclosure,\n",
    "      \n",
    "      -- Implementation Gap Analysis\n",
    "      CASE \n",
    "        WHEN pii_type IN ('email', 'ip_address') AND table_location LIKE '%marketing%' \n",
    "          THEN 'Opt-out mechanism required for marketing data'\n",
    "        WHEN pii_type IN ('ssn', 'credit_card') \n",
    "          THEN 'Enhanced security controls verification needed'\n",
    "        WHEN pii_type != 'none' AND table_location LIKE '%temp%' \n",
    "          THEN 'Retention policy definition required'\n",
    "        WHEN pii_type != 'none' AND table_location LIKE '%backup%' \n",
    "          THEN 'Backup deletion process needed'\n",
    "        ELSE 'Implementation appears complete'\n",
    "      END as implementation_gap\n",
    "      \n",
    "    FROM enhanced_pii_discovery\n",
    "    WHERE pii_type != 'none'\n",
    "    GROUP BY \n",
    "      table_catalog, table_schema, table_name, pii_type\n",
    "  )\n",
    "  \n",
    "  SELECT \n",
    "    table_location,\n",
    "    ccpa_category,\n",
    "    pii_columns as personal_info_elements,\n",
    "    sale_status as sale_or_sharing_status,\n",
    "    right_to_know as consumer_right_to_know,\n",
    "    right_to_delete as consumer_right_to_delete,\n",
    "    right_to_opt_out as consumer_right_to_opt_out,\n",
    "    business_purpose,\n",
    "    third_parties as third_party_recipients,\n",
    "    retention_period,\n",
    "    sensitive_flag as sensitive_personal_info,\n",
    "    policy_disclosure as privacy_policy_disclosure,\n",
    "    implementation_gap,\n",
    "    ARRAY_JOIN(ARRAY_DISTINCT(detection_methods), ', ') as detection_method\n",
    "  FROM pii_classified\n",
    "  ORDER BY sensitive_flag DESC, ccpa_category, table_location\n",
    ");\n",
    "\n",
    "-- Example of how to tag columns for PII detection\n",
    "-- You can run these commands to tag your existing columns:\n",
    "\n",
    "/*\n",
    "-- Tag columns with PII types\n",
    "ALTER TABLE your_schema.your_table ALTER COLUMN user_id SET TAGS ('pii_type' = 'none');\n",
    "ALTER TABLE your_schema.your_table ALTER COLUMN customer_email_addr SET TAGS ('pii_type' = 'email');\n",
    "ALTER TABLE your_schema.your_table ALTER COLUMN contact_phone SET TAGS ('pii_type' = 'phone');\n",
    "ALTER TABLE your_schema.your_table ALTER COLUMN customer_full_name SET TAGS ('pii_type' = 'name');\n",
    "ALTER TABLE your_schema.your_table ALTER COLUMN billing_address_line1 SET TAGS ('pii_type' = 'address');\n",
    "ALTER TABLE your_schema.your_table ALTER COLUMN social_security_num SET TAGS ('pii_type' = 'ssn');\n",
    "\n",
    "-- Add column descriptions/comments that will be detected\n",
    "ALTER TABLE your_schema.your_table ALTER COLUMN mystery_column COMMENT 'Contains customer email addresses for marketing';\n",
    "ALTER TABLE your_schema.your_table ALTER COLUMN col123 COMMENT 'Customer phone number for support contact';\n",
    "ALTER TABLE your_schema.your_table ALTER COLUMN data_field COMMENT 'Social security number for tax reporting';\n",
    "*/\n",
    "\n",
    "/*\n",
    "-- Test query to see what the enhanced detection finds\n",
    "CREATE OR REPLACE VIEW sumitsaraswat_catalog.compliance.pii_detection_test AS\n",
    "SELECT \n",
    "  table_schema,\n",
    "  table_name,\n",
    "  column_name,\n",
    "  COALESCE(comment, 'No description') as column_description,\n",
    "  COALESCE(ct.tag_value, 'No tags') as column_tags,\n",
    "  CASE \n",
    "    WHEN UPPER(COALESCE(ct.tag_value, '')) RLIKE '.*(EMAIL|PHONE|NAME|SSN|CREDIT_CARD|ADDRESS|DOB|IP_ADDRESS).*' \n",
    "      THEN 'PII detected via tags'\n",
    "    WHEN UPPER(COALESCE(c.comment, '')) RLIKE '.*(EMAIL|PHONE|NAME|SSN|CREDIT|ADDRESS|BIRTH|IP).*' \n",
    "      THEN 'PII detected via description'\n",
    "    WHEN LOWER(c.column_name) RLIKE '.*(email|phone|name|ssn|card|address|birth|ip).*' \n",
    "      THEN 'PII detected via column name'\n",
    "    ELSE 'No PII detected'\n",
    "  END as detection_result\n",
    "FROM information_schema.columns c\n",
    "LEFT JOIN system.information_schema.column_tags ct\n",
    "  ON c.table_catalog = ct.catalog_name\n",
    "  AND c.table_schema = ct.schema_name \n",
    "  AND c.table_name = ct.table_name\n",
    "  AND c.column_name = ct.column_name\n",
    "WHERE c.table_catalog = 'sumitsaraswat_catalog'\n",
    "ORDER BY detection_result DESC, table_schema, table_name, column_name;\n",
    "*/"
   ]
  },
  {
   "cell_type": "markdown",
   "metadata": {
    "application/vnd.databricks.v1+cell": {
     "cellMetadata": {},
     "inputWidgets": {},
     "nuid": "7db68fe9-dd82-4709-8a13-46cb83b05d47",
     "showTitle": false,
     "tableResultSettingsMap": {},
     "title": ""
    }
   },
   "source": [
    "### Example usage"
   ]
  },
  {
   "cell_type": "code",
   "execution_count": 0,
   "metadata": {
    "application/vnd.databricks.v1+cell": {
     "cellMetadata": {
      "byteLimit": 2048000,
      "implicitDf": true,
      "rowLimit": 10000
     },
     "inputWidgets": {},
     "nuid": "e194e269-7b2a-4746-bf5d-5294342158c9",
     "showTitle": false,
     "tableResultSettingsMap": {},
     "title": ""
    }
   },
   "outputs": [
    {
     "output_type": "display_data",
     "data": {
      "text/html": [
       "<style scoped>\n",
       "  .table-result-container {\n",
       "    max-height: 300px;\n",
       "    overflow: auto;\n",
       "  }\n",
       "  table, th, td {\n",
       "    border: 1px solid black;\n",
       "    border-collapse: collapse;\n",
       "  }\n",
       "  th, td {\n",
       "    padding: 5px;\n",
       "  }\n",
       "  th {\n",
       "    text-align: left;\n",
       "  }\n",
       "</style><div class='table-result-container'><table class='table-result'><thead style='background-color: white'><tr><th>table_location</th><th>ccpa_category</th><th>personal_info_elements</th><th>sensitive_personal_info</th><th>detection_method</th></tr></thead><tbody><tr><td>sumitsaraswat_catalog.aep_billing.aep_usage_hist</td><td>Commercial Information</td><td>List(Bill Due Date)</td><td>true</td><td>No PII detected</td></tr><tr><td>sumitsaraswat_catalog.sample_data.financial_transactions</td><td>Commercial Information</td><td>List(credit_card_number)</td><td>true</td><td>Detected via column name</td></tr><tr><td>sumitsaraswat_catalog.sample_data.employee_records</td><td>Identifiers</td><td>List(social_security_number)</td><td>true</td><td>No PII detected</td></tr><tr><td>sumitsaraswat_catalog.sample_data.marketing_campaigns</td><td>Identifiers</td><td>List(ip_address)</td><td>false</td><td>Detected via column name</td></tr><tr><td>sumitsaraswat_catalog.sample_data.financial_transactions</td><td>Identifiers</td><td>List(customer_email)</td><td>false</td><td>Detected via column name</td></tr><tr><td>sumitsaraswat_catalog.sample_data.customer_profiles</td><td>Identifiers</td><td>List(phone_number)</td><td>false</td><td>Detected via column name</td></tr><tr><td>sumitsaraswat_catalog.sample_data.customer_profiles</td><td>Identifiers</td><td>List(first_name, last_name)</td><td>false</td><td>Detected via column tags</td></tr><tr><td>sumitsaraswat_catalog.sample_data.marketing_campaigns</td><td>Identifiers</td><td>List(customer_email)</td><td>false</td><td>Detected via column name</td></tr><tr><td>sumitsaraswat_catalog.sample_data.customer_profiles</td><td>Identifiers</td><td>List(street_address, city, zip_code)</td><td>false</td><td>Detected via column name, No PII detected</td></tr><tr><td>sumitsaraswat_catalog.sample_data.customer_profiles</td><td>Identifiers</td><td>List(email_address)</td><td>false</td><td>Detected via column tags</td></tr><tr><td>sumitsaraswat_catalog.sample_data.employee_records</td><td>Identifiers</td><td>List(full_name)</td><td>false</td><td>Detected via column name</td></tr></tbody></table></div>"
      ]
     },
     "metadata": {
      "application/vnd.databricks.v1+output": {
       "addedWidgets": {},
       "aggData": [],
       "aggError": "",
       "aggOverflow": false,
       "aggSchema": [],
       "aggSeriesLimitReached": false,
       "aggType": "",
       "arguments": {},
       "columnCustomDisplayInfos": {},
       "data": [
        [
         "sumitsaraswat_catalog.aep_billing.aep_usage_hist",
         "Commercial Information",
         [
          "Bill Due Date"
         ],
         true,
         "No PII detected"
        ],
        [
         "sumitsaraswat_catalog.sample_data.financial_transactions",
         "Commercial Information",
         [
          "credit_card_number"
         ],
         true,
         "Detected via column name"
        ],
        [
         "sumitsaraswat_catalog.sample_data.employee_records",
         "Identifiers",
         [
          "social_security_number"
         ],
         true,
         "No PII detected"
        ],
        [
         "sumitsaraswat_catalog.sample_data.marketing_campaigns",
         "Identifiers",
         [
          "ip_address"
         ],
         false,
         "Detected via column name"
        ],
        [
         "sumitsaraswat_catalog.sample_data.financial_transactions",
         "Identifiers",
         [
          "customer_email"
         ],
         false,
         "Detected via column name"
        ],
        [
         "sumitsaraswat_catalog.sample_data.customer_profiles",
         "Identifiers",
         [
          "phone_number"
         ],
         false,
         "Detected via column name"
        ],
        [
         "sumitsaraswat_catalog.sample_data.customer_profiles",
         "Identifiers",
         [
          "first_name",
          "last_name"
         ],
         false,
         "Detected via column tags"
        ],
        [
         "sumitsaraswat_catalog.sample_data.marketing_campaigns",
         "Identifiers",
         [
          "customer_email"
         ],
         false,
         "Detected via column name"
        ],
        [
         "sumitsaraswat_catalog.sample_data.customer_profiles",
         "Identifiers",
         [
          "street_address",
          "city",
          "zip_code"
         ],
         false,
         "Detected via column name, No PII detected"
        ],
        [
         "sumitsaraswat_catalog.sample_data.customer_profiles",
         "Identifiers",
         [
          "email_address"
         ],
         false,
         "Detected via column tags"
        ],
        [
         "sumitsaraswat_catalog.sample_data.employee_records",
         "Identifiers",
         [
          "full_name"
         ],
         false,
         "Detected via column name"
        ]
       ],
       "datasetInfos": [
        {
         "name": "_sqldf",
         "schema": {
          "fields": [
           {
            "metadata": {},
            "name": "table_location",
            "nullable": false,
            "type": "string"
           },
           {
            "metadata": {},
            "name": "ccpa_category",
            "nullable": false,
            "type": "string"
           },
           {
            "metadata": {},
            "name": "personal_info_elements",
            "nullable": false,
            "type": {
             "containsNull": true,
             "elementType": "string",
             "type": "array"
            }
           },
           {
            "metadata": {},
            "name": "sensitive_personal_info",
            "nullable": false,
            "type": "boolean"
           },
           {
            "metadata": {},
            "name": "detection_method",
            "nullable": false,
            "type": "string"
           }
          ],
          "type": "struct"
         },
         "tableIdentifier": null,
         "typeStr": "pyspark.sql.connect.dataframe.DataFrame"
        }
       ],
       "dbfsResultPath": null,
       "isJsonSchema": true,
       "metadata": {
        "createTempViewForImplicitDf": true,
        "dataframeName": "_sqldf",
        "executionCount": 4
       },
       "overflow": false,
       "plotOptions": {
        "customPlotOptions": {},
        "displayType": "table",
        "pivotAggregation": null,
        "pivotColumns": null,
        "xColumns": null,
        "yColumns": null
       },
       "removedWidgets": [],
       "schema": [
        {
         "metadata": "{}",
         "name": "table_location",
         "type": "\"string\""
        },
        {
         "metadata": "{}",
         "name": "ccpa_category",
         "type": "\"string\""
        },
        {
         "metadata": "{}",
         "name": "personal_info_elements",
         "type": "{\"containsNull\":true,\"elementType\":\"string\",\"type\":\"array\"}"
        },
        {
         "metadata": "{}",
         "name": "sensitive_personal_info",
         "type": "\"boolean\""
        },
        {
         "metadata": "{}",
         "name": "detection_method",
         "type": "\"string\""
        }
       ],
       "type": "table"
      }
     },
     "output_type": "display_data"
    }
   ],
   "source": [
    "%sql\n",
    "--Usage Examples\n",
    "-- Example 1: Complete PII Inventory\n",
    "USE CATALOG sumitsaraswat_catalog;\n",
    "USE SCHEMA compliance;\n",
    "\n",
    "-- Get comprehensive PII inventory across all tables\n",
    "SELECT \n",
    "    table_location,\n",
    "    ccpa_category,\n",
    "    personal_info_elements,\n",
    "    sensitive_personal_info,\n",
    "    detection_method\n",
    "FROM ccpa_data_inventory()\n",
    "ORDER BY sensitive_personal_info DESC, ccpa_category;\n"
   ]
  },
  {
   "cell_type": "code",
   "execution_count": 0,
   "metadata": {
    "application/vnd.databricks.v1+cell": {
     "cellMetadata": {
      "byteLimit": 2048000,
      "implicitDf": true,
      "rowLimit": 10000
     },
     "inputWidgets": {},
     "nuid": "d5ff6903-0112-451e-a456-4533a8b400f8",
     "showTitle": false,
     "tableResultSettingsMap": {},
     "title": ""
    }
   },
   "outputs": [
    {
     "output_type": "display_data",
     "data": {
      "text/html": [
       "<style scoped>\n",
       "  .table-result-container {\n",
       "    max-height: 300px;\n",
       "    overflow: auto;\n",
       "  }\n",
       "  table, th, td {\n",
       "    border: 1px solid black;\n",
       "    border-collapse: collapse;\n",
       "  }\n",
       "  th, td {\n",
       "    padding: 5px;\n",
       "  }\n",
       "  th {\n",
       "    text-align: left;\n",
       "  }\n",
       "</style><div class='table-result-container'><table class='table-result'><thead style='background-color: white'><tr><th>table_location</th><th>personal_info_elements</th><th>business_purpose</th><th>implementation_gap</th></tr></thead><tbody><tr><td>sumitsaraswat_catalog.aep_billing.aep_usage_hist</td><td>List(Bill Due Date)</td><td>Payment processing, fraud prevention</td><td>Enhanced security controls verification needed</td></tr><tr><td>sumitsaraswat_catalog.sample_data.employee_records</td><td>List(social_security_number)</td><td>Legal compliance, tax reporting, identity verification</td><td>Enhanced security controls verification needed</td></tr><tr><td>sumitsaraswat_catalog.sample_data.financial_transactions</td><td>List(credit_card_number)</td><td>Payment processing, fraud prevention</td><td>Enhanced security controls verification needed</td></tr></tbody></table></div>"
      ]
     },
     "metadata": {
      "application/vnd.databricks.v1+output": {
       "addedWidgets": {},
       "aggData": [],
       "aggError": "",
       "aggOverflow": false,
       "aggSchema": [],
       "aggSeriesLimitReached": false,
       "aggType": "",
       "arguments": {},
       "columnCustomDisplayInfos": {},
       "data": [
        [
         "sumitsaraswat_catalog.aep_billing.aep_usage_hist",
         [
          "Bill Due Date"
         ],
         "Payment processing, fraud prevention",
         "Enhanced security controls verification needed"
        ],
        [
         "sumitsaraswat_catalog.sample_data.employee_records",
         [
          "social_security_number"
         ],
         "Legal compliance, tax reporting, identity verification",
         "Enhanced security controls verification needed"
        ],
        [
         "sumitsaraswat_catalog.sample_data.financial_transactions",
         [
          "credit_card_number"
         ],
         "Payment processing, fraud prevention",
         "Enhanced security controls verification needed"
        ]
       ],
       "datasetInfos": [
        {
         "name": "_sqldf",
         "schema": {
          "fields": [
           {
            "metadata": {},
            "name": "table_location",
            "nullable": false,
            "type": "string"
           },
           {
            "metadata": {},
            "name": "personal_info_elements",
            "nullable": false,
            "type": {
             "containsNull": true,
             "elementType": "string",
             "type": "array"
            }
           },
           {
            "metadata": {},
            "name": "business_purpose",
            "nullable": false,
            "type": "string"
           },
           {
            "metadata": {},
            "name": "implementation_gap",
            "nullable": false,
            "type": "string"
           }
          ],
          "type": "struct"
         },
         "tableIdentifier": null,
         "typeStr": "pyspark.sql.connect.dataframe.DataFrame"
        }
       ],
       "dbfsResultPath": null,
       "isJsonSchema": true,
       "metadata": {
        "createTempViewForImplicitDf": true,
        "dataframeName": "_sqldf",
        "executionCount": 6
       },
       "overflow": false,
       "plotOptions": {
        "customPlotOptions": {},
        "displayType": "table",
        "pivotAggregation": null,
        "pivotColumns": null,
        "xColumns": null,
        "yColumns": null
       },
       "removedWidgets": [],
       "schema": [
        {
         "metadata": "{}",
         "name": "table_location",
         "type": "\"string\""
        },
        {
         "metadata": "{}",
         "name": "personal_info_elements",
         "type": "{\"containsNull\":true,\"elementType\":\"string\",\"type\":\"array\"}"
        },
        {
         "metadata": "{}",
         "name": "business_purpose",
         "type": "\"string\""
        },
        {
         "metadata": "{}",
         "name": "implementation_gap",
         "type": "\"string\""
        }
       ],
       "type": "table"
      }
     },
     "output_type": "display_data"
    }
   ],
   "source": [
    "%sql\n",
    "--Example 2: High-Risk Data Focus\n",
    "-- Focus on sensitive PII requiring enhanced security\n",
    "SELECT \n",
    "    table_location,\n",
    "    personal_info_elements,\n",
    "    business_purpose,\n",
    "    implementation_gap\n",
    "FROM ccpa_data_inventory()\n",
    "WHERE sensitive_personal_info = TRUE\n",
    "ORDER BY table_location;\n"
   ]
  }
 ],
 "metadata": {
  "application/vnd.databricks.v1+notebook": {
   "computePreferences": null,
   "dashboards": [],
   "environmentMetadata": {
    "base_environment": "",
    "environment_version": "2"
   },
   "inputWidgetPreferences": null,
   "language": "python",
   "notebookMetadata": {
    "mostRecentlyExecutedCommandWithImplicitDF": {
     "commandId": 6397979369251914,
     "dataframes": [
      "_sqldf"
     ]
    },
    "pythonIndentUnit": 2
   },
   "notebookName": "UCF_ccpa_data_inven",
   "widgets": {}
  },
  "language_info": {
   "name": "python"
  }
 },
 "nbformat": 4,
 "nbformat_minor": 0
}