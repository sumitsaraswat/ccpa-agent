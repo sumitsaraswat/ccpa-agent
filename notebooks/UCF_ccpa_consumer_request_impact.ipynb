{
 "cells": [
  {
   "cell_type": "markdown",
   "metadata": {
    "application/vnd.databricks.v1+cell": {
     "cellMetadata": {},
     "inputWidgets": {},
     "nuid": "73d06147-0ed6-4744-a8eb-283b5222ad2f",
     "showTitle": false,
     "tableResultSettingsMap": {},
     "title": ""
    }
   },
   "source": []
  },
  {
   "cell_type": "markdown",
   "metadata": {
    "application/vnd.databricks.v1+cell": {
     "cellMetadata": {},
     "inputWidgets": {},
     "nuid": "42579dc2-214e-4ecc-a199-1514e62fa692",
     "showTitle": false,
     "tableResultSettingsMap": {},
     "title": ""
    }
   },
   "source": [
    "**Purpose**: Analyzes the impact and effort required to fulfill CCPA consumer requests (Right to Know, Delete, or Opt-Out) across your data landscape\n",
    "\n",
    "\n",
    "When a consumer submits a CCPA request, this function provides instant impact analysis to help compliance teams understand:\n",
    "\uD83C\uDFAF Request Scope Analysis\n",
    "\n",
    "**Data Location:** Which tables contain the consumer's information\n",
    "Record Volume: Estimated number of records to process\n",
    "Data Categories: CCPA classification of affected data\n",
    "Rights Applicability: Which consumer rights apply to each data type\n",
    "\n",
    "⚖️ **Legal & Compliance Assessment**\n",
    "\n",
    "**Legal Holds: **Identifies data that cannot be deleted due to legal requirements\n",
    "**Retention Policies:** Compliance obligations that override deletion requests\n",
    "**Business Justification:** Why certain data must be retained\n",
    "Consumer Rights Limitations: When rights are restricted by law\n",
    "\n",
    "\uD83D\uDCCA **Operational Impact Planning**\n",
    "\n",
    "Effort Estimation: Hours required to fulfill the request\n",
    "Complexity Assessment: Technical difficulty of data removal\n",
    "System Dependencies: All affected systems and platforms\n",
    "Automation Potential: What can be automated vs. manual review\n",
    "\n",
    "\uD83D\uDD50 **Timeline & Resource Management**\n",
    "\n",
    "Compliance Deadline: Automatic 45-day CCPA deadline calculation\n",
    "Priority Levels: High/Medium/Low complexity classification\n",
    "Resource Allocation: Staff hours and skills needed"
   ]
  },
  {
   "cell_type": "markdown",
   "metadata": {
    "application/vnd.databricks.v1+cell": {
     "cellMetadata": {},
     "inputWidgets": {},
     "nuid": "793b0b06-adb8-4648-926e-4169610a6006",
     "showTitle": false,
     "tableResultSettingsMap": {},
     "title": ""
    }
   },
   "source": [
    "Function signature"
   ]
  },
  {
   "cell_type": "code",
   "execution_count": 0,
   "metadata": {
    "application/vnd.databricks.v1+cell": {
     "cellMetadata": {
      "byteLimit": 2048000,
      "implicitDf": true,
      "rowLimit": 10000
     },
     "inputWidgets": {},
     "nuid": "24cde8d5-6fea-4de1-b8bd-277ffb9614e8",
     "showTitle": false,
     "tableResultSettingsMap": {},
     "title": ""
    }
   },
   "outputs": [
    {
     "output_type": "stream",
     "name": "stdout",
     "output_type": "stream",
     "text": [
      "\nExecuting subquery: -- FUNCTION 2: CCPA Consumer Request Impact Analyzer (SQL Version)\n-- This creates a simplified version that works without Python\nCREATE OR REPLACE VIEW compliance.functions.ccpa_consumer_request_template AS\nSELECT \n  'customers.main.customer_profiles' as affected_table,\n  'Identifiers' as ccpa_category,\n  CAST(1 as BIGINT) as record_count,\n  'Low' as deletion_complexity,\n  'No legal hold identified' as legal_hold_status,\n  'Low - Standard customer data' as business_impact,\n  TRUE as automated_deletion,\n  FALSE as manual_review_required,\n  CAST(2.0 as DOUBLE) as estimated_effort_hours,\n  ARRAY('Primary Database', 'CRM System') as dependent_systems,\n  CURRENT_DATE() + INTERVAL 45 DAYS as compliance_deadline\n  \nUNION ALL\n\nSELECT \n  'sales.transactions.orders' as affected_table,\n  'Commercial Information' as ccpa_category,\n  CAST(23 as BIGINT) as record_count,\n  'Medium' as deletion_complexity,\n  'Subject to 7-year business records retention' as legal_hold_status,\n  'High - Financial records affected' as business_impact,\n  FALSE as automated_deletion,\n  TRUE as manual_review_required,\n  CAST(8.0 as DOUBLE) as estimated_effort_hours,\n  ARRAY('Primary Database', 'Billing System', 'Payment Processor') as dependent_systems,\n  CURRENT_DATE() + INTERVAL 45 DAYS as compliance_deadline\n\nUNION ALL\n\nSELECT \n  'marketing.campaigns.email_interactions' as affected_table,\n  'Internet or Network Activity' as ccpa_category,\n  CAST(156 as BIGINT) as record_count,\n  'Medium' as deletion_complexity,\n  'No legal hold identified' as legal_hold_status,\n  'Low - Marketing effectiveness may decrease' as business_impact,\n  TRUE as automated_deletion,\n  FALSE as manual_review_required,\n  CAST(4.0 as DOUBLE) as estimated_effort_hours,\n  ARRAY('Primary Database', 'Email Platform', 'Analytics System') as dependent_systems,\n  CURRENT_DATE() + INTERVAL 45 DAYS as compliance_deadline.\nExecuting subquery: -- Set context to your specific catalog and schema\nUSE CATALOG sumitsaraswat_catalog.\nExecuting subquery: USE SCHEMA compliance.\nExecuting subquery: -- FUNCTION 2: CCPA Consumer Request Impact Analyzer (SQL Version)\n-- This creates a simplified version that works without Python\nCREATE OR REPLACE VIEW sumitsaraswat_catalog.compliance.ccpa_consumer_request_template AS\nSELECT \n  'customers.main.customer_profiles' as affected_table,\n  'Identifiers' as ccpa_category,\n  CAST(1 as BIGINT) as record_count,\n  'Low' as deletion_complexity,\n  'No legal hold identified' as legal_hold_status,\n  'Low - Standard customer data' as business_impact,\n  TRUE as automated_deletion,\n  FALSE as manual_review_required,\n  CAST(2.0 as DOUBLE) as estimated_effort_hours,\n  ARRAY('Primary Database', 'CRM System') as dependent_systems,\n  CURRENT_DATE() + INTERVAL 45 DAYS as compliance_deadline\n  \nUNION ALL\n\nSELECT \n  'sales.transactions.orders' as affected_table,\n  'Commercial Information' as ccpa_category,\n  CAST(23 as BIGINT) as record_count,\n  'Medium' as deletion_complexity,\n  'Subject to 7-year business records retention' as legal_hold_status,\n  'High - Financial records affected' as business_impact,\n  FALSE as automated_deletion,\n  TRUE as manual_review_required,\n  CAST(8.0 as DOUBLE) as estimated_effort_hours,\n  ARRAY('Primary Database', 'Billing System', 'Payment Processor') as dependent_systems,\n  CURRENT_DATE() + INTERVAL 45 DAYS as compliance_deadline\n\nUNION ALL\n\nSELECT \n  'marketing.campaigns.email_interactions' as affected_table,\n  'Internet or Network Activity' as ccpa_category,\n  CAST(156 as BIGINT) as record_count,\n  'Medium' as deletion_complexity,\n  'No legal hold identified' as legal_hold_status,\n  'Low - Marketing effectiveness may decrease' as business_impact,\n  TRUE as automated_deletion,\n  FALSE as manual_review_required,\n  CAST(4.0 as DOUBLE) as estimated_effort_hours,\n  ARRAY('Primary Database', 'Email Platform', 'Analytics System') as dependent_systems,\n  CURRENT_DATE() + INTERVAL 45 DAYS as compliance_deadline.\nExecuting subquery: -- Helper function to simulate consumer request analysis\n-- Usage: SELECT * FROM compliance.functions.ccpa_consumer_request_template \n-- WHERE affected_table LIKE '%customer%' OR affected_table LIKE '%email%';\n\n-- Additional utility views for compliance reporting\nCREATE OR REPLACE VIEW compliance.functions.ccpa_summary_by_category AS\nSELECT \n  ccpa_category,\n  COUNT(*) as table_count,\n  SUM(CASE WHEN consumer_right_to_delete THEN 1 ELSE 0 END) as deletable_tables,\n  SUM(CASE WHEN consumer_right_to_opt_out THEN 1 ELSE 0 END) as opt_out_required,\n  SUM(CASE WHEN sensitive_personal_info THEN 1 ELSE 0 END) as sensitive_tables,\n  COUNT(CASE WHEN implementation_gap != 'Implementation appears complete' THEN 1 END) as tables_with_gaps\nFROM compliance.functions.ccpa_data_inventory()\nGROUP BY ccpa_category\nORDER BY sensitive_tables DESC, table_count DESC.\nExecuting subquery: -- Create the CCPA consumer request impact function (not a view) in your schema\nCREATE OR REPLACE FUNCTION sumitsaraswat_catalog.compliance.ccpa_consumer_request_impact(\n  consumer_identifier STRING DEFAULT 'example@email.com',\n  identifier_type STRING DEFAULT 'email',\n  request_type STRING DEFAULT 'delete'\n)\nRETURNS TABLE(\n  affected_table STRING,\n  ccpa_category STRING,\n  estimated_record_count BIGINT,\n  deletion_complexity STRING,\n  legal_hold_status STRING,\n  business_impact STRING,\n  automated_deletion BOOLEAN,\n  manual_review_required BOOLEAN,\n  estimated_effort_hours DOUBLE,\n  dependent_systems ARRAY<STRING>,\n  compliance_deadline DATE,\n  consumer_rights_applicable STRING,\n  retention_override_reason STRING\n)\nRETURN (\n  WITH consumer_data_analysis AS (\n    -- Analyze tables that would contain the consumer's data\n    SELECT \n      table_location,\n      ccpa_category,\n      personal_info_elements,\n      sensitive_personal_info,\n      sale_or_sharing_status,\n      consumer_right_to_delete,\n      consumer_right_to_opt_out,\n      business_purpose,\n      retention_period,\n      \n      -- Estimate record count based on table type and naming patterns\n      CASE \n        WHEN table_location RLIKE '.*customer.*profile.*|.*user.*profile.*' THEN CAST(1 as BIGINT)\n        WHEN table_location RLIKE '.*customer.*contact.*|.*customer.*communication.*|.*user.*contact.*' THEN CAST(25 as BIGINT)\n        WHEN table_location RLIKE '.*customer.*|.*user.*' THEN CAST(5 as BIGINT)\n        WHEN table_location RLIKE '.*transaction.*|.*order.*|.*payment.*|.*billing.*' THEN CAST(15 as BIGINT)\n        WHEN table_location RLIKE '.*marketing.*|.*email.*|.*campaign.*' THEN CAST(75 as BIGINT)\n        WHEN table_location RLIKE '.*analytics.*|.*tracking.*|.*log.*|.*event.*' THEN CAST(200 as BIGINT)\n        WHEN table_location RLIKE '.*support.*|.*ticket.*|.*help.*' THEN CAST(8 as BIGINT)\n        WHEN table_location RLIKE '.*financial.*|.*finance.*' THEN CAST(12 as BIGINT)\n        ELSE CAST(3 as BIGINT)\n      END as estimated_records,\n      \n      -- Assess deletion complexity based on multiple factors\n      CASE \n        WHEN sensitive_personal_info = TRUE THEN 'High'\n        WHEN table_location RLIKE '.*transaction.*|.*financial.*|.*billing.*|.*payment.*' THEN 'High'\n        WHEN table_location RLIKE '.*analytics.*|.*log.*' AND \n             (CASE WHEN table_location RLIKE '.*marketing.*|.*email.*|.*campaign.*' THEN 75 ELSE 3 END) > 100 THEN 'Medium'\n        WHEN ccpa_category = 'Commercial Information' THEN 'Medium'\n        WHEN ccpa_category = 'Internet or Network Activity' THEN 'Medium'\n        ELSE 'Low'\n      END as complexity,\n      \n      -- Determine legal hold status based on table patterns and data types\n      CASE \n        WHEN sensitive_personal_info = TRUE AND table_location RLIKE '.*tax.*|.*payroll.*' \n          THEN 'IRS 7-year retention requirement'\n        WHEN table_location RLIKE '.*financial.*|.*transaction.*|.*billing.*|.*accounting.*' \n          THEN 'Subject to 7-year business records retention'\n        WHEN table_location RLIKE '.*legal.*|.*compliance.*|.*audit.*' \n          THEN 'May be subject to litigation hold - legal review required'\n        WHEN ccpa_category = 'Commercial Information' AND table_location RLIKE '.*contract.*|.*agreement.*'\n          THEN 'Contract retention requirements may apply'\n        WHEN table_location RLIKE '.*backup.*|.*archive.*'\n          THEN 'Backup retention policies may prevent immediate deletion'\n        ELSE 'No legal hold identified'\n      END as legal_hold,\n      \n      -- Business impact assessment based on table purpose\n      CASE \n        WHEN table_location RLIKE '.*financial.*|.*transaction.*|.*billing.*|.*revenue.*'\n          THEN 'High - Financial records and reporting affected'\n        WHEN table_location RLIKE '.*customer.*profile.*|.*user.*profile.*'\n          THEN 'High - Core customer service capabilities impacted'\n        WHEN table_location RLIKE '.*order.*|.*purchase.*|.*sales.*'\n          THEN 'High - Sales and order management affected'\n        WHEN table_location RLIKE '.*analytics.*|.*tracking.*|.*metrics.*'\n          THEN 'Medium - Analytics and insights accuracy reduced'\n        WHEN table_location RLIKE '.*support.*|.*ticket.*|.*help.*'\n          THEN 'Medium - Support history and context lost'\n        WHEN table_location RLIKE '.*marketing.*|.*campaign.*|.*email.*'\n          THEN 'Low - Marketing effectiveness may decrease'\n        WHEN table_location RLIKE '.*log.*|.*event.*'\n          THEN 'Low - Historical logging affected'\n        ELSE 'Low - Minimal business impact expected'\n      END as biz_impact,\n      \n      -- Determine if automated deletion is possible\n      CASE \n        WHEN sensitive_personal_info = TRUE THEN FALSE\n        WHEN table_location RLIKE '.*financial.*|.*transaction.*|.*tax.*|.*payroll.*' THEN FALSE\n        WHEN table_location RLIKE '.*legal.*|.*compliance.*|.*audit.*' THEN FALSE\n        WHEN ccpa_category = 'Commercial Information' AND table_location RLIKE '.*contract.*' THEN FALSE\n        WHEN (CASE \n                WHEN sensitive_personal_info = TRUE THEN 'High'\n                WHEN table_location RLIKE '.*transaction.*|.*financial.*|.*billing.*' THEN 'High'\n                ELSE 'Low'\n              END) = 'High' THEN FALSE\n        ELSE TRUE\n      END as can_automate,\n      \n      -- Calculate effort estimation in hours\n      CASE \n        WHEN (CASE \n                WHEN sensitive_personal_info = TRUE THEN 'High'\n                WHEN table_location RLIKE '.*transaction.*|.*financial.*|.*billing.*' THEN 'High'\n                WHEN ccpa_category = 'Commercial Information' THEN 'Medium'\n                ELSE 'Low'\n              END) = 'High' \n             AND legal_hold != 'No legal hold identified' THEN 12.0\n        WHEN (CASE \n                WHEN sensitive_personal_info = TRUE THEN 'High'\n                WHEN table_location RLIKE '.*transaction.*|.*financial.*|.*billing.*' THEN 'High'\n                ELSE 'Low'\n              END) = 'High' THEN 8.0\n        WHEN (CASE \n                WHEN ccpa_category = 'Commercial Information' THEN 'Medium'\n                WHEN ccpa_category = 'Internet or Network Activity' THEN 'Medium'\n                ELSE 'Low'\n              END) = 'Medium' \n             AND estimated_records > 50 THEN 6.0\n        WHEN (CASE \n                WHEN ccpa_category = 'Commercial Information' THEN 'Medium'\n                WHEN ccpa_category = 'Internet or Network Activity' THEN 'Medium'\n                ELSE 'Low'\n              END) = 'Medium' THEN 4.0\n        WHEN estimated_records > 20 THEN 3.0\n        ELSE 2.0\n      END as effort_hours,\n      \n      -- Determine dependent systems based on table patterns\n      CASE \n        WHEN table_location RLIKE '.*customer.*|.*user.*' \n          THEN ARRAY('Primary Database', 'CRM System', 'Customer Portal')\n        WHEN table_location RLIKE '.*financial.*|.*billing.*|.*payment.*' \n          THEN ARRAY('Primary Database', 'Billing System', 'Payment Processor', 'Accounting System')\n        WHEN table_location RLIKE '.*marketing.*|.*email.*|.*campaign.*' \n          THEN ARRAY('Primary Database', 'Email Platform', 'Marketing Automation', 'Analytics System')\n        WHEN table_location RLIKE '.*analytics.*|.*tracking.*|.*metrics.*'\n          THEN ARRAY('Primary Database', 'Analytics Platform', 'Data Warehouse', 'Reporting Tools')\n        WHEN table_location RLIKE '.*support.*|.*ticket.*|.*help.*'\n          THEN ARRAY('Primary Database', 'Support System', 'Ticketing Platform')\n        WHEN table_location RLIKE '.*transaction.*|.*order.*|.*sales.*'\n          THEN ARRAY('Primary Database', 'Order Management', 'Inventory System')\n        ELSE ARRAY('Primary Database')\n      END as systems,\n      \n      -- Determine applicable consumer rights based on request type\n      CASE \n        WHEN request_type = 'delete' AND consumer_right_to_delete = FALSE \n          THEN 'Right to Delete LIMITED - Legal requirements prevent full deletion'\n        WHEN request_type = 'delete' \n          THEN 'Right to Delete APPLICABLE - Full deletion required within 45 days'\n        WHEN request_type = 'opt_out' AND consumer_right_to_opt_out = TRUE\n          THEN 'Right to Opt-out APPLICABLE - Stop sale/sharing immediately'\n        WHEN request_type = 'opt_out' AND consumer_right_to_opt_out = FALSE\n          THEN 'Right to Opt-out NOT APPLICABLE - Data not sold or shared'\n        WHEN request_type = 'know'\n          THEN 'Right to Know APPLICABLE - Provide data categories and sources'\n        ELSE 'Rights determination needed'\n      END as rights_status,\n      \n      -- Retention override reasons for legal holds\n      CASE \n        WHEN legal_hold LIKE '%IRS%' THEN 'Tax law requires 7-year retention'\n        WHEN legal_hold LIKE '%business records%' THEN 'SOX and business continuity requirements'\n        WHEN legal_hold LIKE '%litigation%' THEN 'Ongoing legal matter prevents deletion'\n        WHEN legal_hold LIKE '%contract%' THEN 'Contractual obligations require retention'\n        WHEN legal_hold LIKE '%backup%' THEN 'Technical: backup systems require separate deletion process'\n        ELSE NULL\n      END as retention_override\n      \n    FROM sumitsaraswat_catalog.compliance.ccpa_data_inventory()\n    WHERE \n      -- Only include tables that would contain the specified identifier type\n      CASE \n        WHEN identifier_type = 'email' THEN ARRAYS_OVERLAP(personal_info_elements, ARRAY('email'))\n        WHEN identifier_type = 'phone' THEN ARRAYS_OVERLAP(personal_info_elements, ARRAY('phone'))\n        WHEN identifier_type = 'name' THEN \n          (ARRAYS_OVERLAP(personal_info_elements, ARRAY('name')) OR \n           ARRAYS_OVERLAP(personal_info_elements, ARRAY('first name')) OR\n           ARRAYS_OVERLAP(personal_info_elements, ARRAY('last name')))\n        WHEN identifier_type = 'ssn' THEN ARRAYS_OVERLAP(personal_info_elements, ARRAY('ssn'))\n        WHEN identifier_type = 'address' THEN ARRAYS_OVERLAP(personal_info_elements, ARRAY('address'))\n        ELSE TRUE  -- Default: include all tables with personal info\n      END\n  )\n  \n  SELECT \n    table_location as affected_table,\n    ccpa_category,\n    estimated_records as estimated_record_count,\n    complexity as deletion_complexity,\n    legal_hold as legal_hold_status,\n    biz_impact as business_impact,\n    can_automate as automated_deletion,\n    NOT can_automate as manual_review_required,\n    effort_hours as estimated_effort_hours,\n    systems as dependent_systems,\n    CURRENT_DATE() + INTERVAL 45 DAYS as compliance_deadline,\n    rights_status as consumer_rights_applicable,\n    retention_override as retention_override_reason\n  FROM consumer_data_analysis\n  ORDER BY \n    CASE complexity \n      WHEN 'High' THEN 1 \n      WHEN 'Medium' THEN 2 \n      ELSE 3 \n    END,\n    estimated_records DESC\n)."
     ]
    }
   ],
   "source": [
    "%sql\n",
    "-- Create the CCPA consumer request impact function \n",
    "CREATE OR REPLACE FUNCTION sumitsaraswat_catalog.compliance.ccpa_consumer_request_impact(\n",
    "  consumer_identifier STRING DEFAULT 'example@email.com',\n",
    "  identifier_type STRING DEFAULT 'email',\n",
    "  request_type STRING DEFAULT 'delete'\n",
    ")\n",
    "RETURNS TABLE(\n",
    "  affected_table STRING,\n",
    "  ccpa_category STRING,\n",
    "  estimated_record_count BIGINT,\n",
    "  deletion_complexity STRING,\n",
    "  legal_hold_status STRING,\n",
    "  business_impact STRING,\n",
    "  automated_deletion BOOLEAN,\n",
    "  manual_review_required BOOLEAN,\n",
    "  estimated_effort_hours DOUBLE,\n",
    "  dependent_systems ARRAY<STRING>,\n",
    "  compliance_deadline DATE,\n",
    "  consumer_rights_applicable STRING,\n",
    "  retention_override_reason STRING\n",
    ")\n",
    "RETURN (\n",
    "  WITH consumer_data_analysis AS (\n",
    "    -- Analyze tables that would contain the consumer's data\n",
    "    SELECT \n",
    "      table_location,\n",
    "      ccpa_category,\n",
    "      personal_info_elements,\n",
    "      sensitive_personal_info,\n",
    "      sale_or_sharing_status,\n",
    "      consumer_right_to_delete,\n",
    "      consumer_right_to_opt_out,\n",
    "      business_purpose,\n",
    "      retention_period,\n",
    "      \n",
    "      -- Estimate record count based on table type and naming patterns\n",
    "      CASE \n",
    "        WHEN table_location RLIKE '.*customer.*profile.*|.*user.*profile.*' THEN CAST(1 as BIGINT)\n",
    "        WHEN table_location RLIKE '.*customer.*contact.*|.*customer.*communication.*|.*user.*contact.*' THEN CAST(25 as BIGINT)\n",
    "        WHEN table_location RLIKE '.*customer.*|.*user.*' THEN CAST(5 as BIGINT)\n",
    "        WHEN table_location RLIKE '.*transaction.*|.*order.*|.*payment.*|.*billing.*' THEN CAST(15 as BIGINT)\n",
    "        WHEN table_location RLIKE '.*marketing.*|.*email.*|.*campaign.*' THEN CAST(75 as BIGINT)\n",
    "        WHEN table_location RLIKE '.*analytics.*|.*tracking.*|.*log.*|.*event.*' THEN CAST(200 as BIGINT)\n",
    "        WHEN table_location RLIKE '.*support.*|.*ticket.*|.*help.*' THEN CAST(8 as BIGINT)\n",
    "        WHEN table_location RLIKE '.*financial.*|.*finance.*' THEN CAST(12 as BIGINT)\n",
    "        ELSE CAST(3 as BIGINT)\n",
    "      END as estimated_records,\n",
    "      \n",
    "      -- Assess deletion complexity based on multiple factors\n",
    "      CASE \n",
    "        WHEN sensitive_personal_info = TRUE THEN 'High'\n",
    "        WHEN table_location RLIKE '.*transaction.*|.*financial.*|.*billing.*|.*payment.*' THEN 'High'\n",
    "        WHEN table_location RLIKE '.*analytics.*|.*log.*' AND \n",
    "             (CASE WHEN table_location RLIKE '.*marketing.*|.*email.*|.*campaign.*' THEN 75 ELSE 3 END) > 100 THEN 'Medium'\n",
    "        WHEN ccpa_category = 'Commercial Information' THEN 'Medium'\n",
    "        WHEN ccpa_category = 'Internet or Network Activity' THEN 'Medium'\n",
    "        ELSE 'Low'\n",
    "      END as complexity,\n",
    "      \n",
    "      -- Determine legal hold status based on table patterns and data types\n",
    "      CASE \n",
    "        WHEN sensitive_personal_info = TRUE AND table_location RLIKE '.*tax.*|.*payroll.*' \n",
    "          THEN 'IRS 7-year retention requirement'\n",
    "        WHEN table_location RLIKE '.*financial.*|.*transaction.*|.*billing.*|.*accounting.*' \n",
    "          THEN 'Subject to 7-year business records retention'\n",
    "        WHEN table_location RLIKE '.*legal.*|.*compliance.*|.*audit.*' \n",
    "          THEN 'May be subject to litigation hold - legal review required'\n",
    "        WHEN ccpa_category = 'Commercial Information' AND table_location RLIKE '.*contract.*|.*agreement.*'\n",
    "          THEN 'Contract retention requirements may apply'\n",
    "        WHEN table_location RLIKE '.*backup.*|.*archive.*'\n",
    "          THEN 'Backup retention policies may prevent immediate deletion'\n",
    "        ELSE 'No legal hold identified'\n",
    "      END as legal_hold,\n",
    "      \n",
    "      -- Business impact assessment based on table purpose\n",
    "      CASE \n",
    "        WHEN table_location RLIKE '.*financial.*|.*transaction.*|.*billing.*|.*revenue.*'\n",
    "          THEN 'High - Financial records and reporting affected'\n",
    "        WHEN table_location RLIKE '.*customer.*profile.*|.*user.*profile.*'\n",
    "          THEN 'High - Core customer service capabilities impacted'\n",
    "        WHEN table_location RLIKE '.*order.*|.*purchase.*|.*sales.*'\n",
    "          THEN 'High - Sales and order management affected'\n",
    "        WHEN table_location RLIKE '.*analytics.*|.*tracking.*|.*metrics.*'\n",
    "          THEN 'Medium - Analytics and insights accuracy reduced'\n",
    "        WHEN table_location RLIKE '.*support.*|.*ticket.*|.*help.*'\n",
    "          THEN 'Medium - Support history and context lost'\n",
    "        WHEN table_location RLIKE '.*marketing.*|.*campaign.*|.*email.*'\n",
    "          THEN 'Low - Marketing effectiveness may decrease'\n",
    "        WHEN table_location RLIKE '.*log.*|.*event.*'\n",
    "          THEN 'Low - Historical logging affected'\n",
    "        ELSE 'Low - Minimal business impact expected'\n",
    "      END as biz_impact,\n",
    "      \n",
    "      -- Determine if automated deletion is possible\n",
    "      CASE \n",
    "        WHEN sensitive_personal_info = TRUE THEN FALSE\n",
    "        WHEN table_location RLIKE '.*financial.*|.*transaction.*|.*tax.*|.*payroll.*' THEN FALSE\n",
    "        WHEN table_location RLIKE '.*legal.*|.*compliance.*|.*audit.*' THEN FALSE\n",
    "        WHEN ccpa_category = 'Commercial Information' AND table_location RLIKE '.*contract.*' THEN FALSE\n",
    "        WHEN (CASE \n",
    "                WHEN sensitive_personal_info = TRUE THEN 'High'\n",
    "                WHEN table_location RLIKE '.*transaction.*|.*financial.*|.*billing.*' THEN 'High'\n",
    "                ELSE 'Low'\n",
    "              END) = 'High' THEN FALSE\n",
    "        ELSE TRUE\n",
    "      END as can_automate,\n",
    "      \n",
    "      -- Calculate effort estimation in hours\n",
    "      CASE \n",
    "        WHEN (CASE \n",
    "                WHEN sensitive_personal_info = TRUE THEN 'High'\n",
    "                WHEN table_location RLIKE '.*transaction.*|.*financial.*|.*billing.*' THEN 'High'\n",
    "                WHEN ccpa_category = 'Commercial Information' THEN 'Medium'\n",
    "                ELSE 'Low'\n",
    "              END) = 'High' \n",
    "             AND legal_hold != 'No legal hold identified' THEN 12.0\n",
    "        WHEN (CASE \n",
    "                WHEN sensitive_personal_info = TRUE THEN 'High'\n",
    "                WHEN table_location RLIKE '.*transaction.*|.*financial.*|.*billing.*' THEN 'High'\n",
    "                ELSE 'Low'\n",
    "              END) = 'High' THEN 8.0\n",
    "        WHEN (CASE \n",
    "                WHEN ccpa_category = 'Commercial Information' THEN 'Medium'\n",
    "                WHEN ccpa_category = 'Internet or Network Activity' THEN 'Medium'\n",
    "                ELSE 'Low'\n",
    "              END) = 'Medium' \n",
    "             AND estimated_records > 50 THEN 6.0\n",
    "        WHEN (CASE \n",
    "                WHEN ccpa_category = 'Commercial Information' THEN 'Medium'\n",
    "                WHEN ccpa_category = 'Internet or Network Activity' THEN 'Medium'\n",
    "                ELSE 'Low'\n",
    "              END) = 'Medium' THEN 4.0\n",
    "        WHEN estimated_records > 20 THEN 3.0\n",
    "        ELSE 2.0\n",
    "      END as effort_hours,\n",
    "      \n",
    "      -- Determine dependent systems based on table patterns\n",
    "      CASE \n",
    "        WHEN table_location RLIKE '.*customer.*|.*user.*' \n",
    "          THEN ARRAY('Primary Database', 'CRM System', 'Customer Portal')\n",
    "        WHEN table_location RLIKE '.*financial.*|.*billing.*|.*payment.*' \n",
    "          THEN ARRAY('Primary Database', 'Billing System', 'Payment Processor', 'Accounting System')\n",
    "        WHEN table_location RLIKE '.*marketing.*|.*email.*|.*campaign.*' \n",
    "          THEN ARRAY('Primary Database', 'Email Platform', 'Marketing Automation', 'Analytics System')\n",
    "        WHEN table_location RLIKE '.*analytics.*|.*tracking.*|.*metrics.*'\n",
    "          THEN ARRAY('Primary Database', 'Analytics Platform', 'Data Warehouse', 'Reporting Tools')\n",
    "        WHEN table_location RLIKE '.*support.*|.*ticket.*|.*help.*'\n",
    "          THEN ARRAY('Primary Database', 'Support System', 'Ticketing Platform')\n",
    "        WHEN table_location RLIKE '.*transaction.*|.*order.*|.*sales.*'\n",
    "          THEN ARRAY('Primary Database', 'Order Management', 'Inventory System')\n",
    "        ELSE ARRAY('Primary Database')\n",
    "      END as systems,\n",
    "      \n",
    "      -- Determine applicable consumer rights based on request type\n",
    "      CASE \n",
    "        WHEN request_type = 'delete' AND consumer_right_to_delete = FALSE \n",
    "          THEN 'Right to Delete LIMITED - Legal requirements prevent full deletion'\n",
    "        WHEN request_type = 'delete' \n",
    "          THEN 'Right to Delete APPLICABLE - Full deletion required within 45 days'\n",
    "        WHEN request_type = 'opt_out' AND consumer_right_to_opt_out = TRUE\n",
    "          THEN 'Right to Opt-out APPLICABLE - Stop sale/sharing immediately'\n",
    "        WHEN request_type = 'opt_out' AND consumer_right_to_opt_out = FALSE\n",
    "          THEN 'Right to Opt-out NOT APPLICABLE - Data not sold or shared'\n",
    "        WHEN request_type = 'know'\n",
    "          THEN 'Right to Know APPLICABLE - Provide data categories and sources'\n",
    "        ELSE 'Rights determination needed'\n",
    "      END as rights_status,\n",
    "      \n",
    "      -- Retention override reasons for legal holds\n",
    "      CASE \n",
    "        WHEN legal_hold LIKE '%IRS%' THEN 'Tax law requires 7-year retention'\n",
    "        WHEN legal_hold LIKE '%business records%' THEN 'SOX and business continuity requirements'\n",
    "        WHEN legal_hold LIKE '%litigation%' THEN 'Ongoing legal matter prevents deletion'\n",
    "        WHEN legal_hold LIKE '%contract%' THEN 'Contractual obligations require retention'\n",
    "        WHEN legal_hold LIKE '%backup%' THEN 'Technical: backup systems require separate deletion process'\n",
    "        ELSE NULL\n",
    "      END as retention_override\n",
    "      \n",
    "    FROM sumitsaraswat_catalog.compliance.ccpa_data_inventory()\n",
    "    WHERE \n",
    "      -- Only include tables that would contain the specified identifier type\n",
    "      CASE \n",
    "        WHEN identifier_type = 'email' THEN ARRAYS_OVERLAP(personal_info_elements, ARRAY('email'))\n",
    "        WHEN identifier_type = 'phone' THEN ARRAYS_OVERLAP(personal_info_elements, ARRAY('phone'))\n",
    "        WHEN identifier_type = 'name' THEN \n",
    "          (ARRAYS_OVERLAP(personal_info_elements, ARRAY('name')) OR \n",
    "           ARRAYS_OVERLAP(personal_info_elements, ARRAY('first name')) OR\n",
    "           ARRAYS_OVERLAP(personal_info_elements, ARRAY('last name')))\n",
    "        WHEN identifier_type = 'ssn' THEN ARRAYS_OVERLAP(personal_info_elements, ARRAY('ssn'))\n",
    "        WHEN identifier_type = 'address' THEN ARRAYS_OVERLAP(personal_info_elements, ARRAY('address'))\n",
    "        ELSE TRUE  -- Default: include all tables with personal info\n",
    "      END\n",
    "  )\n",
    "  \n",
    "  SELECT \n",
    "    table_location as affected_table,\n",
    "    ccpa_category,\n",
    "    estimated_records as estimated_record_count,\n",
    "    complexity as deletion_complexity,\n",
    "    legal_hold as legal_hold_status,\n",
    "    biz_impact as business_impact,\n",
    "    can_automate as automated_deletion,\n",
    "    NOT can_automate as manual_review_required,\n",
    "    effort_hours as estimated_effort_hours,\n",
    "    systems as dependent_systems,\n",
    "    CURRENT_DATE() + INTERVAL 45 DAYS as compliance_deadline,\n",
    "    rights_status as consumer_rights_applicable,\n",
    "    retention_override as retention_override_reason\n",
    "  FROM consumer_data_analysis\n",
    "  ORDER BY \n",
    "    CASE complexity \n",
    "      WHEN 'High' THEN 1 \n",
    "      WHEN 'Medium' THEN 2 \n",
    "      ELSE 3 \n",
    "    END,\n",
    "    estimated_records DESC\n",
    ");\n",
    "\n",
    "-- Create the summary view by category in your schema\n",
    "CREATE OR REPLACE VIEW sumitsaraswat_catalog.compliance.ccpa_summary_by_category AS\n",
    "SELECT \n",
    "  ccpa_category,\n",
    "  COUNT(*) as table_count,\n",
    "  SUM(CASE WHEN consumer_right_to_delete THEN 1 ELSE 0 END) as deletable_tables,\n",
    "  SUM(CASE WHEN consumer_right_to_opt_out THEN 1 ELSE 0 END) as opt_out_required,\n",
    "  SUM(CASE WHEN sensitive_personal_info THEN 1 ELSE 0 END) as sensitive_tables,\n",
    "  COUNT(CASE WHEN implementation_gap != 'Implementation appears complete' THEN 1 END) as tables_with_gaps\n",
    "FROM sumitsaraswat_catalog.compliance.ccpa_data_inventory()\n",
    "GROUP BY ccpa_category\n",
    "ORDER BY sensitive_tables DESC, table_count DESC;\n",
    "\n",
    "-- Create the implementation gaps view in your schema\n",
    "CREATE OR REPLACE VIEW sumitsaraswat_catalog.compliance.ccpa_implementation_gaps AS\n",
    "SELECT \n",
    "  table_location,\n",
    "  ccpa_category,\n",
    "  implementation_gap,\n",
    "  CASE \n",
    "    WHEN consumer_right_to_opt_out AND sale_or_sharing_status LIKE '%May be%' \n",
    "      THEN 'HIGH PRIORITY: Opt-out mechanism missing'\n",
    "    WHEN sensitive_personal_info AND implementation_gap LIKE '%security%'\n",
    "      THEN 'HIGH PRIORITY: Enhanced security needed'\n",
    "    WHEN implementation_gap LIKE '%retention%'\n",
    "      THEN 'MEDIUM PRIORITY: Retention policy needed'\n",
    "    ELSE 'Standard Priority'\n",
    "  END as priority_level,\n",
    "  sensitive_personal_info\n",
    "FROM sumitsaraswat_catalog.compliance.ccpa_data_inventory()\n",
    "WHERE implementation_gap != 'Implementation appears complete'\n",
    "ORDER BY \n",
    "  CASE priority_level\n",
    "    WHEN 'HIGH PRIORITY: Opt-out mechanism missing' THEN 1\n",
    "    WHEN 'HIGH PRIORITY: Enhanced security needed' THEN 2\n",
    "    WHEN 'MEDIUM PRIORITY: Retention policy needed' THEN 3\n",
    "    ELSE 4\n",
    "  END,\n",
    "  sensitive_personal_info DESC;\n",
    "\n",
    "-- Test queries you can run to verify everything works:\n",
    "\n",
    "-- 1. Test the main function\n",
    "-- SELECT * FROM sumitsaraswat_catalog.compliance.ccpa_data_inventory() LIMIT 10;\n",
    "\n",
    "-- 2. Get summary by category\n",
    "-- SELECT * FROM sumitsaraswat_catalog.compliance.ccpa_summary_by_category;\n",
    "\n",
    "-- 3. Check implementation gaps\n",
    "-- SELECT * FROM sumitsaraswat_catalog.compliance.ccpa_implementation_gaps;\n",
    "\n",
    "-- 4. See consumer request template\n",
    "-- SELECT * FROM sumitsaraswat_catalog.compliance.ccpa_consumer_request_template;"
   ]
  },
  {
   "cell_type": "code",
   "execution_count": 0,
   "metadata": {
    "application/vnd.databricks.v1+cell": {
     "cellMetadata": {
      "byteLimit": 2048000,
      "implicitDf": true,
      "rowLimit": 10000
     },
     "inputWidgets": {},
     "nuid": "a9655b49-4fba-481c-acd8-fa30fe3e2ba4",
     "showTitle": false,
     "tableResultSettingsMap": {},
     "title": ""
    }
   },
   "outputs": [
    {
     "output_type": "display_data",
     "data": {
      "text/html": [
       "<style scoped>\n",
       "  .table-result-container {\n",
       "    max-height: 300px;\n",
       "    overflow: auto;\n",
       "  }\n",
       "  table, th, td {\n",
       "    border: 1px solid black;\n",
       "    border-collapse: collapse;\n",
       "  }\n",
       "  th, td {\n",
       "    padding: 5px;\n",
       "  }\n",
       "  th {\n",
       "    text-align: left;\n",
       "  }\n",
       "</style><div class='table-result-container'><table class='table-result'><thead style='background-color: white'><tr><th>table_location</th><th>ccpa_category</th><th>personal_info_elements</th><th>sale_or_sharing_status</th><th>consumer_right_to_know</th><th>consumer_right_to_delete</th><th>consumer_right_to_opt_out</th><th>business_purpose</th><th>third_party_recipients</th><th>retention_period</th><th>sensitive_personal_info</th><th>privacy_policy_disclosure</th><th>implementation_gap</th></tr></thead><tbody><tr><td>sumitsaraswat_catalog.sample_data.financial_transactions</td><td>Commercial Information</td><td>List(credit_card_number)</td><td>Never sold or shared (legal/service requirements only)</td><td>true</td><td>true</td><td>false</td><td>Payment processing, fraud prevention</td><td>Payment processors, Fraud detection services</td><td>90 days maximum (encrypted)</td><td>true</td><td>Payment information used solely for transaction processing</td><td>Enhanced security controls verification needed</td></tr><tr><td>sumitsaraswat_catalog.sample_data.employee_records</td><td>Identifiers</td><td>List(social_security_number)</td><td>Never sold or shared (legal/service requirements only)</td><td>true</td><td>false</td><td>true</td><td>Legal compliance, tax reporting, identity verification</td><td>Government agencies, Tax processors</td><td>7 years for business records</td><td>true</td><td>SSN collected only when legally required for tax/compliance</td><td>Enhanced security controls verification needed</td></tr><tr><td>sumitsaraswat_catalog.sample_data.customer_profiles</td><td>Identifiers</td><td>List(phone_number)</td><td>Not sold, shared with service providers only</td><td>true</td><td>true</td><td>false</td><td>Customer service, account verification, security</td><td>Customer service platforms, SMS providers</td><td>24 months after last interaction</td><td>false</td><td>Phone numbers used for customer service and security verification</td><td>Implementation appears complete</td></tr><tr><td>sumitsaraswat_catalog.sample_data.customer_profiles</td><td>Identifiers</td><td>List(email_address)</td><td>May be shared with marketing/analytics partners</td><td>true</td><td>true</td><td>true</td><td>Customer communication, marketing, account management</td><td>Email service providers, Marketing platforms</td><td>24 months after last interaction</td><td>false</td><td>Email addresses collected for communication and marketing purposes</td><td>Implementation appears complete</td></tr><tr><td>sumitsaraswat_catalog.sample_data.customer_profiles</td><td>Identifiers</td><td>List(first_name, last_name)</td><td>Not sold, shared with service providers only</td><td>true</td><td>true</td><td>false</td><td>Account management, service delivery, legal compliance</td><td>Service providers, Payment processors</td><td>7 years for business records</td><td>false</td><td>Names used for account identification and service delivery</td><td>Implementation appears complete</td></tr><tr><td>sumitsaraswat_catalog.sample_data.customer_profiles</td><td>Identifiers</td><td>List(street_address, city, zip_code)</td><td>Not sold, shared with service providers only</td><td>true</td><td>true</td><td>false</td><td>Service delivery, billing, shipping</td><td>Shipping providers, Service technicians</td><td>24 months after last interaction</td><td>false</td><td>Addresses used for service delivery and billing</td><td>Implementation appears complete</td></tr><tr><td>sumitsaraswat_catalog.sample_data.employee_records</td><td>Identifiers</td><td>List(full_name)</td><td>Not sold, shared with service providers only</td><td>true</td><td>true</td><td>false</td><td>Account management, service delivery, legal compliance</td><td>Service providers, Payment processors</td><td>7 years for business records</td><td>false</td><td>Names used for account identification and service delivery</td><td>Implementation appears complete</td></tr><tr><td>sumitsaraswat_catalog.sample_data.financial_transactions</td><td>Identifiers</td><td>List(customer_email)</td><td>May be shared with marketing/analytics partners</td><td>true</td><td>true</td><td>true</td><td>Customer communication, marketing, account management</td><td>Email service providers, Marketing platforms</td><td>24 months after last interaction</td><td>false</td><td>Email addresses collected for communication and marketing purposes</td><td>Implementation appears complete</td></tr><tr><td>sumitsaraswat_catalog.sample_data.marketing_campaigns</td><td>Identifiers</td><td>List(customer_email)</td><td>May be shared with marketing/analytics partners</td><td>true</td><td>true</td><td>true</td><td>Customer communication, marketing, account management</td><td>Email service providers, Marketing platforms</td><td>24 months after last interaction</td><td>false</td><td>Email addresses collected for communication and marketing purposes</td><td>Opt-out mechanism required for marketing data</td></tr><tr><td>sumitsaraswat_catalog.sample_data.marketing_campaigns</td><td>Identifiers</td><td>List(ip_address)</td><td>Not sold, shared with service providers only</td><td>true</td><td>true</td><td>false</td><td>Service delivery, billing, shipping</td><td>Shipping providers, Service technicians</td><td>24 months after last interaction</td><td>false</td><td>Addresses used for service delivery and billing</td><td>Implementation appears complete</td></tr></tbody></table></div>"
      ]
     },
     "metadata": {
      "application/vnd.databricks.v1+output": {
       "addedWidgets": {},
       "aggData": [],
       "aggError": "",
       "aggOverflow": false,
       "aggSchema": [],
       "aggSeriesLimitReached": false,
       "aggType": "",
       "arguments": {},
       "columnCustomDisplayInfos": {},
       "data": [
        [
         "sumitsaraswat_catalog.sample_data.financial_transactions",
         "Commercial Information",
         [
          "credit_card_number"
         ],
         "Never sold or shared (legal/service requirements only)",
         true,
         true,
         false,
         "Payment processing, fraud prevention",
         "Payment processors, Fraud detection services",
         "90 days maximum (encrypted)",
         true,
         "Payment information used solely for transaction processing",
         "Enhanced security controls verification needed"
        ],
        [
         "sumitsaraswat_catalog.sample_data.employee_records",
         "Identifiers",
         [
          "social_security_number"
         ],
         "Never sold or shared (legal/service requirements only)",
         true,
         false,
         true,
         "Legal compliance, tax reporting, identity verification",
         "Government agencies, Tax processors",
         "7 years for business records",
         true,
         "SSN collected only when legally required for tax/compliance",
         "Enhanced security controls verification needed"
        ],
        [
         "sumitsaraswat_catalog.sample_data.customer_profiles",
         "Identifiers",
         [
          "phone_number"
         ],
         "Not sold, shared with service providers only",
         true,
         true,
         false,
         "Customer service, account verification, security",
         "Customer service platforms, SMS providers",
         "24 months after last interaction",
         false,
         "Phone numbers used for customer service and security verification",
         "Implementation appears complete"
        ],
        [
         "sumitsaraswat_catalog.sample_data.customer_profiles",
         "Identifiers",
         [
          "email_address"
         ],
         "May be shared with marketing/analytics partners",
         true,
         true,
         true,
         "Customer communication, marketing, account management",
         "Email service providers, Marketing platforms",
         "24 months after last interaction",
         false,
         "Email addresses collected for communication and marketing purposes",
         "Implementation appears complete"
        ],
        [
         "sumitsaraswat_catalog.sample_data.customer_profiles",
         "Identifiers",
         [
          "first_name",
          "last_name"
         ],
         "Not sold, shared with service providers only",
         true,
         true,
         false,
         "Account management, service delivery, legal compliance",
         "Service providers, Payment processors",
         "7 years for business records",
         false,
         "Names used for account identification and service delivery",
         "Implementation appears complete"
        ],
        [
         "sumitsaraswat_catalog.sample_data.customer_profiles",
         "Identifiers",
         [
          "street_address",
          "city",
          "zip_code"
         ],
         "Not sold, shared with service providers only",
         true,
         true,
         false,
         "Service delivery, billing, shipping",
         "Shipping providers, Service technicians",
         "24 months after last interaction",
         false,
         "Addresses used for service delivery and billing",
         "Implementation appears complete"
        ],
        [
         "sumitsaraswat_catalog.sample_data.employee_records",
         "Identifiers",
         [
          "full_name"
         ],
         "Not sold, shared with service providers only",
         true,
         true,
         false,
         "Account management, service delivery, legal compliance",
         "Service providers, Payment processors",
         "7 years for business records",
         false,
         "Names used for account identification and service delivery",
         "Implementation appears complete"
        ],
        [
         "sumitsaraswat_catalog.sample_data.financial_transactions",
         "Identifiers",
         [
          "customer_email"
         ],
         "May be shared with marketing/analytics partners",
         true,
         true,
         true,
         "Customer communication, marketing, account management",
         "Email service providers, Marketing platforms",
         "24 months after last interaction",
         false,
         "Email addresses collected for communication and marketing purposes",
         "Implementation appears complete"
        ],
        [
         "sumitsaraswat_catalog.sample_data.marketing_campaigns",
         "Identifiers",
         [
          "customer_email"
         ],
         "May be shared with marketing/analytics partners",
         true,
         true,
         true,
         "Customer communication, marketing, account management",
         "Email service providers, Marketing platforms",
         "24 months after last interaction",
         false,
         "Email addresses collected for communication and marketing purposes",
         "Opt-out mechanism required for marketing data"
        ],
        [
         "sumitsaraswat_catalog.sample_data.marketing_campaigns",
         "Identifiers",
         [
          "ip_address"
         ],
         "Not sold, shared with service providers only",
         true,
         true,
         false,
         "Service delivery, billing, shipping",
         "Shipping providers, Service technicians",
         "24 months after last interaction",
         false,
         "Addresses used for service delivery and billing",
         "Implementation appears complete"
        ]
       ],
       "datasetInfos": [
        {
         "name": "_sqldf",
         "schema": {
          "fields": [
           {
            "metadata": {},
            "name": "table_location",
            "nullable": false,
            "type": "string"
           },
           {
            "metadata": {},
            "name": "ccpa_category",
            "nullable": false,
            "type": "string"
           },
           {
            "metadata": {},
            "name": "personal_info_elements",
            "nullable": false,
            "type": {
             "containsNull": true,
             "elementType": "string",
             "type": "array"
            }
           },
           {
            "metadata": {},
            "name": "sale_or_sharing_status",
            "nullable": false,
            "type": "string"
           },
           {
            "metadata": {},
            "name": "consumer_right_to_know",
            "nullable": false,
            "type": "boolean"
           },
           {
            "metadata": {},
            "name": "consumer_right_to_delete",
            "nullable": false,
            "type": "boolean"
           },
           {
            "metadata": {},
            "name": "consumer_right_to_opt_out",
            "nullable": false,
            "type": "boolean"
           },
           {
            "metadata": {},
            "name": "business_purpose",
            "nullable": false,
            "type": "string"
           },
           {
            "metadata": {},
            "name": "third_party_recipients",
            "nullable": false,
            "type": "string"
           },
           {
            "metadata": {},
            "name": "retention_period",
            "nullable": false,
            "type": "string"
           },
           {
            "metadata": {},
            "name": "sensitive_personal_info",
            "nullable": false,
            "type": "boolean"
           },
           {
            "metadata": {},
            "name": "privacy_policy_disclosure",
            "nullable": false,
            "type": "string"
           },
           {
            "metadata": {},
            "name": "implementation_gap",
            "nullable": false,
            "type": "string"
           }
          ],
          "type": "struct"
         },
         "tableIdentifier": null,
         "typeStr": "pyspark.sql.connect.dataframe.DataFrame"
        }
       ],
       "dbfsResultPath": null,
       "isJsonSchema": true,
       "metadata": {
        "createTempViewForImplicitDf": true,
        "dataframeName": "_sqldf",
        "executionCount": 38
       },
       "overflow": false,
       "plotOptions": {
        "customPlotOptions": {},
        "displayType": "table",
        "pivotAggregation": null,
        "pivotColumns": null,
        "xColumns": null,
        "yColumns": null
       },
       "removedWidgets": [],
       "schema": [
        {
         "metadata": "{}",
         "name": "table_location",
         "type": "\"string\""
        },
        {
         "metadata": "{}",
         "name": "ccpa_category",
         "type": "\"string\""
        },
        {
         "metadata": "{}",
         "name": "personal_info_elements",
         "type": "{\"containsNull\":true,\"elementType\":\"string\",\"type\":\"array\"}"
        },
        {
         "metadata": "{}",
         "name": "sale_or_sharing_status",
         "type": "\"string\""
        },
        {
         "metadata": "{}",
         "name": "consumer_right_to_know",
         "type": "\"boolean\""
        },
        {
         "metadata": "{}",
         "name": "consumer_right_to_delete",
         "type": "\"boolean\""
        },
        {
         "metadata": "{}",
         "name": "consumer_right_to_opt_out",
         "type": "\"boolean\""
        },
        {
         "metadata": "{}",
         "name": "business_purpose",
         "type": "\"string\""
        },
        {
         "metadata": "{}",
         "name": "third_party_recipients",
         "type": "\"string\""
        },
        {
         "metadata": "{}",
         "name": "retention_period",
         "type": "\"string\""
        },
        {
         "metadata": "{}",
         "name": "sensitive_personal_info",
         "type": "\"boolean\""
        },
        {
         "metadata": "{}",
         "name": "privacy_policy_disclosure",
         "type": "\"string\""
        },
        {
         "metadata": "{}",
         "name": "implementation_gap",
         "type": "\"string\""
        }
       ],
       "type": "table"
      }
     },
     "output_type": "display_data"
    }
   ],
   "source": [
    "%sql\n",
    "SELECT * FROM sumitsaraswat_catalog.compliance.ccpa_data_inventory() LIMIT 10;"
   ]
  },
  {
   "cell_type": "code",
   "execution_count": 0,
   "metadata": {
    "application/vnd.databricks.v1+cell": {
     "cellMetadata": {
      "byteLimit": 2048000,
      "implicitDf": true,
      "rowLimit": 10000
     },
     "inputWidgets": {},
     "nuid": "957cbc02-5100-4287-9aea-2b5b3a8e5dc6",
     "showTitle": false,
     "tableResultSettingsMap": {},
     "title": ""
    }
   },
   "outputs": [
    {
     "output_type": "display_data",
     "data": {
      "text/html": [
       "<style scoped>\n",
       "  .table-result-container {\n",
       "    max-height: 300px;\n",
       "    overflow: auto;\n",
       "  }\n",
       "  table, th, td {\n",
       "    border: 1px solid black;\n",
       "    border-collapse: collapse;\n",
       "  }\n",
       "  th, td {\n",
       "    padding: 5px;\n",
       "  }\n",
       "  th {\n",
       "    text-align: left;\n",
       "  }\n",
       "</style><div class='table-result-container'><table class='table-result'><thead style='background-color: white'><tr><th>ccpa_category</th><th>table_count</th><th>deletable_tables</th><th>opt_out_required</th><th>sensitive_tables</th><th>tables_with_gaps</th></tr></thead><tbody><tr><td>Commercial Information</td><td>2</td><td>2</td><td>0</td><td>2</td><td>2</td></tr><tr><td>Identifiers</td><td>9</td><td>8</td><td>4</td><td>1</td><td>2</td></tr></tbody></table></div>"
      ]
     },
     "metadata": {
      "application/vnd.databricks.v1+output": {
       "addedWidgets": {},
       "aggData": [],
       "aggError": "",
       "aggOverflow": false,
       "aggSchema": [],
       "aggSeriesLimitReached": false,
       "aggType": "",
       "arguments": {},
       "columnCustomDisplayInfos": {},
       "data": [
        [
         "Commercial Information",
         2,
         2,
         0,
         2,
         2
        ],
        [
         "Identifiers",
         9,
         8,
         4,
         1,
         2
        ]
       ],
       "datasetInfos": [
        {
         "name": "_sqldf",
         "schema": {
          "fields": [
           {
            "metadata": {},
            "name": "ccpa_category",
            "nullable": false,
            "type": "string"
           },
           {
            "metadata": {},
            "name": "table_count",
            "nullable": false,
            "type": "long"
           },
           {
            "metadata": {},
            "name": "deletable_tables",
            "nullable": true,
            "type": "long"
           },
           {
            "metadata": {},
            "name": "opt_out_required",
            "nullable": true,
            "type": "long"
           },
           {
            "metadata": {},
            "name": "sensitive_tables",
            "nullable": true,
            "type": "long"
           },
           {
            "metadata": {},
            "name": "tables_with_gaps",
            "nullable": false,
            "type": "long"
           }
          ],
          "type": "struct"
         },
         "tableIdentifier": null,
         "typeStr": "pyspark.sql.connect.dataframe.DataFrame"
        }
       ],
       "dbfsResultPath": null,
       "isJsonSchema": true,
       "metadata": {
        "createTempViewForImplicitDf": true,
        "dataframeName": "_sqldf",
        "executionCount": 2
       },
       "overflow": false,
       "plotOptions": {
        "customPlotOptions": {},
        "displayType": "table",
        "pivotAggregation": null,
        "pivotColumns": null,
        "xColumns": null,
        "yColumns": null
       },
       "removedWidgets": [],
       "schema": [
        {
         "metadata": "{}",
         "name": "ccpa_category",
         "type": "\"string\""
        },
        {
         "metadata": "{}",
         "name": "table_count",
         "type": "\"long\""
        },
        {
         "metadata": "{}",
         "name": "deletable_tables",
         "type": "\"long\""
        },
        {
         "metadata": "{}",
         "name": "opt_out_required",
         "type": "\"long\""
        },
        {
         "metadata": "{}",
         "name": "sensitive_tables",
         "type": "\"long\""
        },
        {
         "metadata": "{}",
         "name": "tables_with_gaps",
         "type": "\"long\""
        }
       ],
       "type": "table"
      }
     },
     "output_type": "display_data"
    }
   ],
   "source": [
    "%sql\n",
    "-- 2. Get summary by category\n",
    " SELECT * FROM sumitsaraswat_catalog.compliance.ccpa_summary_by_category;"
   ]
  },
  {
   "cell_type": "markdown",
   "metadata": {
    "application/vnd.databricks.v1+cell": {
     "cellMetadata": {},
     "inputWidgets": {},
     "nuid": "e91791db-0d7d-439c-8cab-9fab2f425703",
     "showTitle": false,
     "tableResultSettingsMap": {},
     "title": ""
    }
   },
   "source": [
    "### Example Usage"
   ]
  },
  {
   "cell_type": "markdown",
   "metadata": {
    "application/vnd.databricks.v1+cell": {
     "cellMetadata": {},
     "inputWidgets": {},
     "nuid": "9de6ee57-8fea-4b43-939c-a8b7b9addc89",
     "showTitle": false,
     "tableResultSettingsMap": {},
     "title": ""
    }
   },
   "source": [
    "Request Types & Impact Analysis\n",
    "\uD83D\uDDD1️ **Delete Requests** (request_type = 'delete')\n",
    "Most Common & Complex Type\n",
    "Analyzes:\n",
    "\n",
    "Which tables contain deletable data\n",
    "Legal restrictions preventing deletion\n",
    "Business impact of removing customer data\n",
    "Technical complexity of deletion process\n",
    "\n",
    "**Key Outputs:**\n",
    "\n",
    "**deletion_complexity:** Low/Medium/High\n",
    "legal_hold_status: Legal requirements blocking deletion\n",
    "retention_override_reason: Why data must be retained\n",
    "\n",
    "\uD83D\uDEAB **Opt-Out Requests** (request_type = 'opt_out')\n",
    "Stop Sale/Sharing of Personal Information\n",
    "Analyzes:\n",
    "\n",
    "Which data is currently sold or shared\n",
    "Systems requiring opt-out configuration\n",
    "Marketing and analytics impact\n",
    "\n",
    "**Key Outputs:**\n",
    "\n",
    "consumer_rights_applicable: Whether opt-out applies\n",
    "business_impact: Effect on marketing/analytics\n",
    "dependent_systems: Platforms needing configuration\n",
    "\n"
   ]
  },
  {
   "cell_type": "code",
   "execution_count": 0,
   "metadata": {
    "application/vnd.databricks.v1+cell": {
     "cellMetadata": {
      "byteLimit": 2048000,
      "implicitDf": true,
      "rowLimit": 10000
     },
     "inputWidgets": {},
     "nuid": "d9971ecf-ac1a-4ecc-8fbb-6df9b7069179",
     "showTitle": false,
     "tableResultSettingsMap": {},
     "title": ""
    }
   },
   "outputs": [
    {
     "output_type": "display_data",
     "data": {
      "text/html": [
       "<style scoped>\n",
       "  .table-result-container {\n",
       "    max-height: 300px;\n",
       "    overflow: auto;\n",
       "  }\n",
       "  table, th, td {\n",
       "    border: 1px solid black;\n",
       "    border-collapse: collapse;\n",
       "  }\n",
       "  th, td {\n",
       "    padding: 5px;\n",
       "  }\n",
       "  th {\n",
       "    text-align: left;\n",
       "  }\n",
       "</style><div class='table-result-container'><table class='table-result'><thead style='background-color: white'><tr><th>affected_table</th><th>deletion_complexity</th><th>estimated_effort_hours</th><th>legal_hold_status</th><th>compliance_deadline</th></tr></thead><tbody></tbody></table></div>"
      ]
     },
     "metadata": {
      "application/vnd.databricks.v1+output": {
       "addedWidgets": {},
       "aggData": [],
       "aggError": "",
       "aggOverflow": false,
       "aggSchema": [],
       "aggSeriesLimitReached": false,
       "aggType": "",
       "arguments": {},
       "columnCustomDisplayInfos": {},
       "data": [],
       "datasetInfos": [
        {
         "name": "_sqldf",
         "schema": {
          "fields": [
           {
            "metadata": {},
            "name": "affected_table",
            "nullable": false,
            "type": "string"
           },
           {
            "metadata": {},
            "name": "deletion_complexity",
            "nullable": false,
            "type": "string"
           },
           {
            "metadata": {},
            "name": "estimated_effort_hours",
            "nullable": false,
            "type": "double"
           },
           {
            "metadata": {},
            "name": "legal_hold_status",
            "nullable": false,
            "type": "string"
           },
           {
            "metadata": {},
            "name": "compliance_deadline",
            "nullable": false,
            "type": "date"
           }
          ],
          "type": "struct"
         },
         "tableIdentifier": null,
         "typeStr": "pyspark.sql.connect.dataframe.DataFrame"
        }
       ],
       "dbfsResultPath": null,
       "isJsonSchema": true,
       "metadata": {
        "createTempViewForImplicitDf": true,
        "dataframeName": "_sqldf",
        "executionCount": 5
       },
       "overflow": false,
       "plotOptions": {
        "customPlotOptions": {},
        "displayType": "table",
        "pivotAggregation": null,
        "pivotColumns": null,
        "xColumns": null,
        "yColumns": null
       },
       "removedWidgets": [],
       "schema": [
        {
         "metadata": "{}",
         "name": "affected_table",
         "type": "\"string\""
        },
        {
         "metadata": "{}",
         "name": "deletion_complexity",
         "type": "\"string\""
        },
        {
         "metadata": "{}",
         "name": "estimated_effort_hours",
         "type": "\"double\""
        },
        {
         "metadata": "{}",
         "name": "legal_hold_status",
         "type": "\"string\""
        },
        {
         "metadata": "{}",
         "name": "compliance_deadline",
         "type": "\"date\""
        }
       ],
       "type": "table"
      }
     },
     "output_type": "display_data"
    }
   ],
   "source": [
    "%sql\n",
    "USE CATALOG sumitsaraswat_catalog;\n",
    "USE SCHEMA compliance;\n",
    "\n",
    "-- Analyze deletion request for a customer\n",
    "SELECT \n",
    "    affected_table,\n",
    "    deletion_complexity,\n",
    "    estimated_effort_hours,\n",
    "    legal_hold_status,\n",
    "    compliance_deadline\n",
    "FROM ccpa_consumer_request_impact('john.doe@example.com', 'email', 'delete')\n",
    "ORDER BY deletion_complexity DESC, estimated_effort_hours DESC;"
   ]
  },
  {
   "cell_type": "code",
   "execution_count": 0,
   "metadata": {
    "application/vnd.databricks.v1+cell": {
     "cellMetadata": {
      "byteLimit": 2048000,
      "implicitDf": true,
      "rowLimit": 10000
     },
     "inputWidgets": {},
     "nuid": "c354b3a2-b0c9-4b77-a1c8-88a0982b457f",
     "showTitle": false,
     "tableResultSettingsMap": {},
     "title": ""
    }
   },
   "outputs": [
    {
     "output_type": "display_data",
     "data": {
      "text/html": [
       "<style scoped>\n",
       "  .table-result-container {\n",
       "    max-height: 300px;\n",
       "    overflow: auto;\n",
       "  }\n",
       "  table, th, td {\n",
       "    border: 1px solid black;\n",
       "    border-collapse: collapse;\n",
       "  }\n",
       "  th, td {\n",
       "    padding: 5px;\n",
       "  }\n",
       "  th {\n",
       "    text-align: left;\n",
       "  }\n",
       "</style><div class='table-result-container'><table class='table-result'><thead style='background-color: white'><tr><th>affected_table</th><th>ccpa_category</th><th>consumer_rights_applicable</th><th>business_impact</th></tr></thead><tbody></tbody></table></div>"
      ]
     },
     "metadata": {
      "application/vnd.databricks.v1+output": {
       "addedWidgets": {},
       "aggData": [],
       "aggError": "",
       "aggOverflow": false,
       "aggSchema": [],
       "aggSeriesLimitReached": false,
       "aggType": "",
       "arguments": {},
       "columnCustomDisplayInfos": {},
       "data": [],
       "datasetInfos": [
        {
         "name": "_sqldf",
         "schema": {
          "fields": [
           {
            "metadata": {},
            "name": "affected_table",
            "nullable": false,
            "type": "string"
           },
           {
            "metadata": {},
            "name": "ccpa_category",
            "nullable": false,
            "type": "string"
           },
           {
            "metadata": {},
            "name": "consumer_rights_applicable",
            "nullable": false,
            "type": "string"
           },
           {
            "metadata": {},
            "name": "business_impact",
            "nullable": false,
            "type": "string"
           }
          ],
          "type": "struct"
         },
         "tableIdentifier": null,
         "typeStr": "pyspark.sql.connect.dataframe.DataFrame"
        }
       ],
       "dbfsResultPath": null,
       "isJsonSchema": true,
       "metadata": {
        "createTempViewForImplicitDf": true,
        "dataframeName": "_sqldf",
        "executionCount": 6
       },
       "overflow": false,
       "plotOptions": {
        "customPlotOptions": {},
        "displayType": "table",
        "pivotAggregation": null,
        "pivotColumns": null,
        "xColumns": null,
        "yColumns": null
       },
       "removedWidgets": [],
       "schema": [
        {
         "metadata": "{}",
         "name": "affected_table",
         "type": "\"string\""
        },
        {
         "metadata": "{}",
         "name": "ccpa_category",
         "type": "\"string\""
        },
        {
         "metadata": "{}",
         "name": "consumer_rights_applicable",
         "type": "\"string\""
        },
        {
         "metadata": "{}",
         "name": "business_impact",
         "type": "\"string\""
        }
       ],
       "type": "table"
      }
     },
     "output_type": "display_data"
    }
   ],
   "source": [
    "%sql\n",
    "-- Analyze opt-out request to stop data sale/sharing\n",
    "SELECT \n",
    "    affected_table,\n",
    "    ccpa_category,\n",
    "    consumer_rights_applicable,\n",
    "    business_impact\n",
    "FROM ccpa_consumer_request_impact('user@company.com', 'email', 'opt_out')\n",
    "WHERE consumer_rights_applicable LIKE '%APPLICABLE%'\n",
    "ORDER BY business_impact DESC;"
   ]
  }
 ],
 "metadata": {
  "application/vnd.databricks.v1+notebook": {
   "computePreferences": null,
   "dashboards": [],
   "environmentMetadata": {
    "base_environment": "",
    "environment_version": "2"
   },
   "inputWidgetPreferences": null,
   "language": "python",
   "notebookMetadata": {
    "mostRecentlyExecutedCommandWithImplicitDF": {
     "commandId": 6397979369251918,
     "dataframes": [
      "_sqldf"
     ]
    },
    "pythonIndentUnit": 2
   },
   "notebookName": "UCF_ccpa_consumer_request_impact",
   "widgets": {}
  },
  "language_info": {
   "name": "python"
  }
 },
 "nbformat": 4,
 "nbformat_minor": 0
}
